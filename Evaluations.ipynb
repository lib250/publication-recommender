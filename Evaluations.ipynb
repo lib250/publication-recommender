{
  "cells": [
    {
      "cell_type": "markdown",
      "source": [
        "# Evaluations"
      ],
      "metadata": {
        "id": "3cM-W5wTHTx3"
      },
      "id": "3cM-W5wTHTx3"
    },
    {
      "cell_type": "markdown",
      "source": [
        "## Installations and Imports"
      ],
      "metadata": {
        "id": "YxiTEUIsOTSI"
      },
      "id": "YxiTEUIsOTSI"
    },
    {
      "cell_type": "code",
      "execution_count": 96,
      "id": "27c8e9ab-5ae6-43c6-91a0-bfabf80ff68a",
      "metadata": {
        "colab": {
          "base_uri": "https://localhost:8080/"
        },
        "id": "27c8e9ab-5ae6-43c6-91a0-bfabf80ff68a",
        "outputId": "1861e543-15ae-4672-d063-de76a776fe8f"
      },
      "outputs": [
        {
          "output_type": "stream",
          "name": "stdout",
          "text": [
            "Requirement already satisfied: torch_geometric in /usr/local/lib/python3.10/dist-packages (2.5.3)\n",
            "Requirement already satisfied: tqdm in /usr/local/lib/python3.10/dist-packages (from torch_geometric) (4.66.4)\n",
            "Requirement already satisfied: numpy in /usr/local/lib/python3.10/dist-packages (from torch_geometric) (1.25.2)\n",
            "Requirement already satisfied: scipy in /usr/local/lib/python3.10/dist-packages (from torch_geometric) (1.11.4)\n",
            "Requirement already satisfied: fsspec in /usr/local/lib/python3.10/dist-packages (from torch_geometric) (2023.6.0)\n",
            "Requirement already satisfied: jinja2 in /usr/local/lib/python3.10/dist-packages (from torch_geometric) (3.1.3)\n",
            "Requirement already satisfied: aiohttp in /usr/local/lib/python3.10/dist-packages (from torch_geometric) (3.9.5)\n",
            "Requirement already satisfied: requests in /usr/local/lib/python3.10/dist-packages (from torch_geometric) (2.31.0)\n",
            "Requirement already satisfied: pyparsing in /usr/local/lib/python3.10/dist-packages (from torch_geometric) (3.1.2)\n",
            "Requirement already satisfied: scikit-learn in /usr/local/lib/python3.10/dist-packages (from torch_geometric) (1.2.2)\n",
            "Requirement already satisfied: psutil>=5.8.0 in /usr/local/lib/python3.10/dist-packages (from torch_geometric) (5.9.5)\n",
            "Requirement already satisfied: aiosignal>=1.1.2 in /usr/local/lib/python3.10/dist-packages (from aiohttp->torch_geometric) (1.3.1)\n",
            "Requirement already satisfied: attrs>=17.3.0 in /usr/local/lib/python3.10/dist-packages (from aiohttp->torch_geometric) (23.2.0)\n",
            "Requirement already satisfied: frozenlist>=1.1.1 in /usr/local/lib/python3.10/dist-packages (from aiohttp->torch_geometric) (1.4.1)\n",
            "Requirement already satisfied: multidict<7.0,>=4.5 in /usr/local/lib/python3.10/dist-packages (from aiohttp->torch_geometric) (6.0.5)\n",
            "Requirement already satisfied: yarl<2.0,>=1.0 in /usr/local/lib/python3.10/dist-packages (from aiohttp->torch_geometric) (1.9.4)\n",
            "Requirement already satisfied: async-timeout<5.0,>=4.0 in /usr/local/lib/python3.10/dist-packages (from aiohttp->torch_geometric) (4.0.3)\n",
            "Requirement already satisfied: MarkupSafe>=2.0 in /usr/local/lib/python3.10/dist-packages (from jinja2->torch_geometric) (2.1.5)\n",
            "Requirement already satisfied: charset-normalizer<4,>=2 in /usr/local/lib/python3.10/dist-packages (from requests->torch_geometric) (3.3.2)\n",
            "Requirement already satisfied: idna<4,>=2.5 in /usr/local/lib/python3.10/dist-packages (from requests->torch_geometric) (3.7)\n",
            "Requirement already satisfied: urllib3<3,>=1.21.1 in /usr/local/lib/python3.10/dist-packages (from requests->torch_geometric) (2.0.7)\n",
            "Requirement already satisfied: certifi>=2017.4.17 in /usr/local/lib/python3.10/dist-packages (from requests->torch_geometric) (2024.2.2)\n",
            "Requirement already satisfied: joblib>=1.1.1 in /usr/local/lib/python3.10/dist-packages (from scikit-learn->torch_geometric) (1.4.2)\n",
            "Requirement already satisfied: threadpoolctl>=2.0.0 in /usr/local/lib/python3.10/dist-packages (from scikit-learn->torch_geometric) (3.5.0)\n"
          ]
        }
      ],
      "source": [
        "!pip install torch_geometric"
      ]
    },
    {
      "cell_type": "code",
      "source": [
        "import random\n",
        "import torch\n",
        "import torch.nn.functional as F\n",
        "from torch.nn import Linear\n",
        "\n",
        "from torch_geometric.utils.convert import from_scipy_sparse_matrix\n",
        "import scipy.sparse as sp\n",
        "from torch_geometric.data import Data\n",
        "\n",
        "from torch_geometric.datasets import CitationFull\n",
        "from torch_geometric.utils import to_networkx\n",
        "import networkx as nx\n",
        "import matplotlib.pyplot as plt\n",
        "\n",
        "from sklearn.metrics import roc_auc_score\n",
        "from torch_geometric.nn import GCNConv, SAGEConv\n",
        "from torch_geometric.utils import negative_sampling\n",
        "import torch_geometric.transforms as T\n",
        "\n",
        "import numpy as np\n",
        "\n",
        "from torch_geometric import seed_everything\n",
        "seed_everything(0)"
      ],
      "metadata": {
        "id": "49xKJN4GkgLL"
      },
      "id": "49xKJN4GkgLL",
      "execution_count": 97,
      "outputs": []
    },
    {
      "cell_type": "markdown",
      "source": [
        "## Loading the Datasets\n",
        "Here we load in two different distributions of the CoraML dataset."
      ],
      "metadata": {
        "id": "2nwvNY0dOdmy"
      },
      "id": "2nwvNY0dOdmy"
    },
    {
      "cell_type": "markdown",
      "source": [
        "### From G2G Repo Dataset\n",
        "\n",
        "We load this dataset according to the [g2g repo](https://github.com/abojchevski/graph2gauss/blob/master/g2g/utils.py#L461). The advantage of this distribution is that it contains mappings from the nodes back to the abstract's text of the original papers, which could allow us to perform qualitative evaluations down the line."
      ],
      "metadata": {
        "id": "313Wm3zZSBbH"
      },
      "id": "313Wm3zZSBbH"
    },
    {
      "cell_type": "code",
      "source": [
        "with np.load('./data/cora_ml.npz', allow_pickle = True) as loader:\n",
        "    loader = dict(loader)\n",
        "    g2g_adj = sp.csr_matrix((loader['adj_data'], loader['adj_indices'],\n",
        "                       loader['adj_indptr']), shape=loader['adj_shape'])\n",
        "\n",
        "    g2g_x = sp.csr_matrix((loader['attr_data'], loader['attr_indices'],\n",
        "                       loader['attr_indptr']), shape=loader['attr_shape'])\n",
        "\n",
        "    print(\"ABSTRACTS:\\n\", loader['attr_text'])\n",
        "    abstracts = loader['attr_text']\n",
        "\n",
        "pt_g2g_x = torch.tensor(g2g_x.toarray(), dtype=torch.float)\n",
        "pt_g2g_edge_index = from_scipy_sparse_matrix(g2g_adj)[0]\n",
        "g2g_cora_ml = Data(x=pt_g2g_x, edge_index=pt_g2g_edge_index)\n",
        "print(\"\\nGRAPH DATA:\")\n",
        "g2g_cora_ml"
      ],
      "metadata": {
        "colab": {
          "base_uri": "https://localhost:8080/"
        },
        "id": "frsKavW4SLwT",
        "outputId": "a3d26c74-ac0d-45eb-f68a-d0a837063df6"
      },
      "id": "frsKavW4SLwT",
      "execution_count": 98,
      "outputs": [
        {
          "output_type": "stream",
          "name": "stdout",
          "text": [
            "ABSTRACTS:\n",
            " [\"Intelligent information retrieval (IIR) requires inference. The number of inferences that can be drawn by even a simple reasoner is very large, and the inferential resources available to any practical computer system are limited. This problem is one long faced by AI researchers. In this paper, we present a method used by two recent machine learning programs for control of inference that is relevant to the design of IIR systems. The key feature of the approach is the use of explicit representations of desired knowledge, which we call knowledge goals. Our theory addresses the representation of knowledge goals, methods for generating and transforming these goals, and heuristics for selecting among potential inferences in order to feasibly satisfy such goals. In this view, IIR becomes a kind of planning: decisions about what to infer, how to infer and when to infer are based on representations of desired knowledge, as well as internal representations of the system's inferential abilities and current state. The theory is illustrated using two case studies, a natural language understanding program that learns by reading novel newspaper stories, and a differential diagnosis program that improves its accuracy with experience. We conclude by making several suggestions on how this machine learning framework can be integrated with existing information retrieval methods.\"\n",
            " 'A read-once formula is one in which each variable appears on at most a single input. Angluin, Hellerstein, and Karpinski give a polynomial time algorithm that uses membership and equivalence queries to identify exactly read-once boolean formulas over the basis fAND; OR; NOTg [AHK93]. The goal of this work is to consider natural generalizations of these gates, in order to develop exact identification algorithms for more powerful classes of formulas. We show that read-once formulas over a basis of arbitrary boolean functions of constant fan-in k or less (i.e. any f : f0; 1g 1ck ! f0; 1g) are exactly identifiable in polynomial time using membership and equivalence queries. We show that read-once formulas over the basis of arbitrary symmetric boolean functions are also exactly identifiable in polynomial time in this model. Given standard cryptographic assumptions, there is no polynomial time identification algorithm for read-twice formulas over either of these bases using membership and equivalence queries. We further show that for any basis class B meeting certain technical conditions, any polynomial time identification algorithm for read-once formulas over B can be extended to a polynomial time identification algorithm for read-once formulas over the union of B and the arbitrary functions of fan-in k or less. As a result, read-once formulas over the union of arbitrary symmetric and arbitrary constant fan-in gates are also exactly identifiable in polynomial time using membership and equivalence queries.'\n",
            " 'It is well known that prior knowledge or bias can speed up learning, at least in theory. It has proved difficult to make constructive use of prior knowledge, so that approximately correct hypotheses can be learned efficiently. In this paper, we consider a particular form of bias which consists of a set of \"determinations.\" A set of attributes is said to determine a given attribute if the latter is purely a function of the former. The bias is tree-structured if there is a tree of attributes such that the attribute at any node is determined by its children, where the leaves correspond to input attributes and the root corresponds to the target attribute for the learning problem. The set of allowed functions at each node is called the basis. The tree-structured bias restricts the target functions to those representable by a read-once formula (a Boolean formula in which each variable occurs at most once) of a given structure over the basis functions. We show that efficient learning using a given tree-structured bias from random examples and membership queries is possible if the basis class itself is learnable and obeys some mild closure conditions. The algorithm uses a form of controlled experimentation in order to learn each part of the overall function, fixing the inputs to the other parts of the function at appropriate values. We present empirical results that demonstrate that when a tree-structured bias is available, our method significantly improves upon knowledge-free induction. We also show that there are hard cryptographic limitations'\n",
            " ...\n",
            " \"New neural learning algorithms are often benchmarked only poorly. This article gathers some important DOs and DON'Ts for researchers in order to improve on that situation. The essential requirements are (1) Volume: benchmarking has to be broad enough, i.e., must use several problems; (2) Validity: common errors that invalidate the results have to be avoided; (3) Reproducibility: benchmarking has to be documented well enough to be completely reproducible; and (4) Comparability: benchmark results should, if possible, be directly comparable with the results achieved by others using different algorithms.\"\n",
            " \"In this paper we present TDLeaf(), a variation on the TD() algorithm that enables it to be used in conjunction with minimax search. We present some experiments in both chess and backgammon which demonstrate its utility and provide comparisons with TD() and another less radical variant, TD-directed(). In particular, our chess program, KnightCap, used TDLeaf() to learn its evaluation function while playing on the Free Internet Chess Server (FICS, fics.onenet.net). It improved from a 1650 rating to a 2100 rating in just 308 games. We discuss some of the reasons for this success and the relationship between our results and Tesauro's results in backgammon.\"\n",
            " 'In the paper we consider a new class (called NoLoess) of nonparametric estimators of regression function r(x) = E(Y jX = x): The new estimators link nonparametric and parametric methods. NoLoess extends the class of Macauley, Cleveland, and Stone estimators and replaces their locally linear models (Loess) given by (1.3) with a general locally parametric nonlinear model g(x; ). The parameter is estimated locally by fitting g(x; ) to a sub-sample (X i 1 ; Y i 1 ); : : : ; (X i k (x) ; Y i k (x) ) with X i 1 ; : : : ; X i k (x) being close to x. The resulting nonparametric estimator of r(x) is of the form g(x; ^ )(x). Under proper regularity assumptions it is strongly consistent.']\n",
            "\n",
            "GRAPH DATA:\n"
          ]
        },
        {
          "output_type": "execute_result",
          "data": {
            "text/plain": [
              "Data(x=[2995, 2879], edge_index=[2, 8416])"
            ]
          },
          "metadata": {},
          "execution_count": 98
        }
      ]
    },
    {
      "cell_type": "code",
      "source": [
        "g2g_cora_ml.edge_index"
      ],
      "metadata": {
        "colab": {
          "base_uri": "https://localhost:8080/"
        },
        "id": "ZZKh-8Cq5tO0",
        "outputId": "740090e8-5f5b-43d5-b0f7-9d68d3611d51"
      },
      "id": "ZZKh-8Cq5tO0",
      "execution_count": 99,
      "outputs": [
        {
          "output_type": "execute_result",
          "data": {
            "text/plain": [
              "tensor([[   0,    0,    0,  ..., 2993, 2993, 2993],\n",
              "        [1638, 2357, 1636,  ..., 1865,  745,  200]])"
            ]
          },
          "metadata": {},
          "execution_count": 99
        }
      ]
    },
    {
      "cell_type": "code",
      "source": [
        "abstracts[200]"
      ],
      "metadata": {
        "colab": {
          "base_uri": "https://localhost:8080/",
          "height": 140
        },
        "id": "aQLi9rQjA2on",
        "outputId": "14f64e13-398f-4c42-dddc-75cb3a43f127"
      },
      "id": "aQLi9rQjA2on",
      "execution_count": 100,
      "outputs": [
        {
          "output_type": "execute_result",
          "data": {
            "text/plain": [
              "'One of the persistent themes in Artificial Life research is the use of co-evolutionary arms races in the development of specific and complex behaviors. However, other than Simss work on artificial robots, most of the work has attacked very simple games of prisoners dilemma or predator and prey. Following Tesauros work on TD-Gammon, we used a 4000 parameter feed-forward neural network to develop a competitive backgammon evaluation function. Play proceeds by a roll of the dice, application of the network to all legal moves, and choosing the move with the highest evaluation. However, no back-propagation, reinforcement or temporal difference learning methods were employed. Instead we apply simple hill-climbing in a relative fitness environment. We start with an initial champion of all zero weights and proceed simply by playing the current champion network against a slightly mutated challenger, changing weights when the challenger wins. Our results show co-evolution to be a powerful machine learning method, even when coupled with simple hill-climbing, and suggest that the surprising success of Tesauros program had more to do with the co-evolutionary structure of the learning task and the dynamics of the backgammon game itself, than to sophistication in the learning techniques. Michie initiated machine learning work on reinforcement with his MENACE tic-tac-toe learner using matchboxes with the positions drawn on them (Michie, 1961). However such self-organizing systems had generally been fraught with problems of scale and representation and abandoned by the field of AI. Self-playing game learners often learn weird and brittle strategies which allow them to draw each other, yet play poorly against humans and other programs. Yet after millions of iterations of self-play, Tesauros program has become one of the best backgammon players in the world (Tesauro, 1995) and his weights are viewed by his corporation as significant enough intellectual property to keep as a trade secret except to leverage sales of their minority operating system. (International Business Machines, 1995). However, Tesauro has published the weights for a player using a linear evaluation function called PUBEVAL, which we made use of as a yardstick. Others have replicated this TD result both for research purposes (Boyan, 1992) and reportedly in a commercial product called Jellyfish. How is this success to be understood, explained, and replicated in other domains? Is TD-Gammon unbridled good news about the reinforcement learning method? For the idea of conditioning a machine with rewards and punishments has been rejected by modern cognitive science as part of the associationist paradigm based on its weak or non-existent internal representations. It has been brought back to life in modern machine learning form through work initiated by Klopf, 1982, Barto et al., 1983, and Sutton, 1984. Similarly, there is a lot of work in learning in neural networks following the explosive success of BackPropagation at overcoming some limitations of the Perceptron(Rumelhart et al., 1986). However, with respect to the goal of a self-organizing learning machine which starts from a minimal specification and rises to great sophistication, TD-Gammon stands quite alone in both the reinforcement and neural network literature.'"
            ],
            "application/vnd.google.colaboratory.intrinsic+json": {
              "type": "string"
            }
          },
          "metadata": {},
          "execution_count": 100
        }
      ]
    },
    {
      "cell_type": "markdown",
      "source": [
        "## Initial Model Testing\n",
        "\n",
        "Basic model adapted from PyG's [link prediction](https://github.com/pyg-team/pytorch_geometric/blob/master/examples/link_pred.py) example code."
      ],
      "metadata": {
        "id": "2DNUfkGsOKs3"
      },
      "id": "2DNUfkGsOKs3"
    },
    {
      "cell_type": "markdown",
      "source": [
        "### Model Definition and Setup"
      ],
      "metadata": {
        "id": "3NqSlUzquSA7"
      },
      "id": "3NqSlUzquSA7"
    },
    {
      "cell_type": "code",
      "source": [
        "class Net(torch.nn.Module):\n",
        "  def __init__(self, in_channels, hidden_channels, out_channels):\n",
        "    super().__init__()\n",
        "    self.conv1 = GCNConv(in_channels, hidden_channels)\n",
        "    self.conv2 = GCNConv(hidden_channels, out_channels)\n",
        "\n",
        "  def encode(self, x, edge_index):\n",
        "    a1 = self.conv1(x, edge_index).relu()\n",
        "    a2 = self.conv2(a1, edge_index)\n",
        "    return a2\n",
        "\n",
        "  def decode(self, z, edge_label_index):\n",
        "    return (z[edge_label_index[0]] * z[edge_label_index[1]]).sum(dim=-1)\n",
        "\n",
        "  def decode_all(self, z):\n",
        "    s = z @ z.T\n",
        "    return (s > 0).nonzero(as_tuple=False).T\n"
      ],
      "metadata": {
        "id": "WbUWdhOl0O4N"
      },
      "id": "WbUWdhOl0O4N",
      "execution_count": 101,
      "outputs": []
    },
    {
      "cell_type": "code",
      "source": [
        "def train(model, train_data, val_data, optimizer, criterion, n_epochs=100):\n",
        "\n",
        "  train_error = np.zeros(n_epochs)\n",
        "  val_error = np.zeros(n_epochs)\n",
        "\n",
        "  for epoch in range(1, n_epochs+1):\n",
        "    model.train()\n",
        "    optimizer.zero_grad()\n",
        "\n",
        "    z = model.encode(train_data.x, train_data.edge_index)\n",
        "\n",
        "    neg_edge_index = negative_sampling(\n",
        "            edge_index=train_data.edge_index, num_nodes=train_data.num_nodes,\n",
        "            num_neg_samples=train_data.edge_label_index.size(1), method='sparse')\n",
        "\n",
        "    edge_label_index = torch.cat(\n",
        "        [train_data.edge_label_index, neg_edge_index],\n",
        "        dim=-1,\n",
        "    )\n",
        "\n",
        "    edge_label = torch.cat([\n",
        "        train_data.edge_label,\n",
        "        train_data.edge_label.new_zeros(neg_edge_index.size(1))\n",
        "    ], dim=0)\n",
        "\n",
        "    out = model.decode(z, edge_label_index).view(-1)\n",
        "    loss = criterion(out, edge_label)\n",
        "    loss.backward()\n",
        "    optimizer.step()\n",
        "\n",
        "    with torch.no_grad():\n",
        "      train_auc = roc_auc_score(edge_label.cpu().numpy(), out.cpu().numpy())\n",
        "      train_error[epoch-1] = 1 - train_auc\n",
        "\n",
        "    val_auc = evaluate(model, val_data)\n",
        "\n",
        "    val_error[epoch-1] = 1 - val_auc\n",
        "\n",
        "    if epoch % 10 == 0:\n",
        "      print(f\"Epoch: {epoch:03d}, Train Loss: {loss:.3f}, Val AUC: {val_auc:.3f}\")\n",
        "\n",
        "  return model, train_error, val_error\n"
      ],
      "metadata": {
        "id": "Wlq9bXyx3R0m"
      },
      "id": "Wlq9bXyx3R0m",
      "execution_count": 102,
      "outputs": []
    },
    {
      "cell_type": "code",
      "source": [
        "@torch.no_grad()\n",
        "def evaluate(model, data):\n",
        "  model.eval()\n",
        "  z = model.encode(data.x, data.edge_index)\n",
        "  out = model.decode(z, data.edge_label_index).view(-1).sigmoid()\n",
        "\n",
        "  return roc_auc_score(data.edge_label.cpu().numpy(), out.cpu().numpy())\n"
      ],
      "metadata": {
        "id": "XDywyhqd3TX2"
      },
      "id": "XDywyhqd3TX2",
      "execution_count": 103,
      "outputs": []
    },
    {
      "cell_type": "markdown",
      "source": [
        "### Test on G2G Dataset"
      ],
      "metadata": {
        "id": "qIN-MBTVuZmN"
      },
      "id": "qIN-MBTVuZmN"
    },
    {
      "cell_type": "code",
      "source": [
        "graph = g2g_cora_ml\n",
        "\n",
        "split = T.RandomLinkSplit(\n",
        "    num_val=0.05,\n",
        "    num_test=0.1,\n",
        "    is_undirected=True,\n",
        "    add_negative_train_samples=False,\n",
        "    neg_sampling_ratio=1.0,\n",
        ")\n",
        "train_data, val_data, test_data = split(graph)"
      ],
      "metadata": {
        "id": "oTd73coiubZq"
      },
      "id": "oTd73coiubZq",
      "execution_count": 104,
      "outputs": []
    },
    {
      "cell_type": "code",
      "source": [
        "print(train_data)\n",
        "print(val_data)\n",
        "print(test_data)"
      ],
      "metadata": {
        "colab": {
          "base_uri": "https://localhost:8080/"
        },
        "id": "SNwKwBuHvNch",
        "outputId": "eb349b00-9930-424c-d98c-77e759aded5c"
      },
      "id": "SNwKwBuHvNch",
      "execution_count": 105,
      "outputs": [
        {
          "output_type": "stream",
          "name": "stdout",
          "text": [
            "Data(x=[2995, 2879], edge_index=[2, 7316], edge_label=[3658], edge_label_index=[2, 3658])\n",
            "Data(x=[2995, 2879], edge_index=[2, 7316], edge_label=[430], edge_label_index=[2, 430])\n",
            "Data(x=[2995, 2879], edge_index=[2, 7746], edge_label=[860], edge_label_index=[2, 860])\n"
          ]
        }
      ]
    },
    {
      "cell_type": "code",
      "source": [
        "EPOCHS = 100\n",
        "\n",
        "model = Net(g2g_cora_ml.num_features, 128, 64).to('cpu')\n",
        "optimizer = torch.optim.Adam(params=model.parameters(), lr=0.001)\n",
        "criterion = torch.nn.BCEWithLogitsLoss()\n",
        "model, train_errs, val_errs  = train(model, train_data, val_data, optimizer, criterion, n_epochs=EPOCHS)\n",
        "\n",
        "test_auc = evaluate(model, test_data)\n",
        "print(f\"Test: {test_auc:.3f}\")"
      ],
      "metadata": {
        "colab": {
          "base_uri": "https://localhost:8080/"
        },
        "id": "9TOvI5nIvPJk",
        "outputId": "592851e6-cba0-4823-d377-fa488c5bc5e3"
      },
      "id": "9TOvI5nIvPJk",
      "execution_count": 106,
      "outputs": [
        {
          "output_type": "stream",
          "name": "stdout",
          "text": [
            "Epoch: 010, Train Loss: 0.655, Val AUC: 0.790\n",
            "Epoch: 020, Train Loss: 0.605, Val AUC: 0.823\n",
            "Epoch: 030, Train Loss: 0.537, Val AUC: 0.882\n",
            "Epoch: 040, Train Loss: 0.475, Val AUC: 0.889\n",
            "Epoch: 050, Train Loss: 0.465, Val AUC: 0.910\n",
            "Epoch: 060, Train Loss: 0.448, Val AUC: 0.919\n",
            "Epoch: 070, Train Loss: 0.430, Val AUC: 0.919\n",
            "Epoch: 080, Train Loss: 0.433, Val AUC: 0.921\n",
            "Epoch: 090, Train Loss: 0.425, Val AUC: 0.922\n",
            "Epoch: 100, Train Loss: 0.416, Val AUC: 0.921\n",
            "Test: 0.929\n"
          ]
        }
      ]
    },
    {
      "cell_type": "code",
      "source": [
        "fig, ax = plt.subplots()\n",
        "ax.plot(train_errs,'r-',label='train')\n",
        "ax.plot(val_errs,'b-',label='validation')\n",
        "ax.set_ylim(0,1); ax.set_xlim(0,EPOCHS-1)\n",
        "ax.set_xlabel('Epoch'); ax.set_ylabel('Error')\n",
        "ax.set_title('G2G Embeddings Validation Result %3.2f'%(val_errs[-1]))\n",
        "ax.legend()\n",
        "plt.show()"
      ],
      "metadata": {
        "colab": {
          "base_uri": "https://localhost:8080/",
          "height": 472
        },
        "id": "yxMqIKoXwTyt",
        "outputId": "d4bccbf5-0516-41d4-8d3b-df1f68267307"
      },
      "id": "yxMqIKoXwTyt",
      "execution_count": 107,
      "outputs": [
        {
          "output_type": "display_data",
          "data": {
            "text/plain": [
              "<Figure size 640x480 with 1 Axes>"
            ],
            "image/png": "[encoded data removed]"
          },
          "metadata": {}
        }
      ]
    },
    {
      "cell_type": "markdown",
      "source": [
        "### Qualitative Evaluations"
      ],
      "metadata": {
        "id": "E6HTpVddW1is"
      },
      "id": "E6HTpVddW1is"
    },
    {
      "cell_type": "markdown",
      "source": [
        "Let's use the paper at index 3, a paper describing a compression algorithm for probability transition matrices."
      ],
      "metadata": {
        "id": "opgxB5reW7VR"
      },
      "id": "opgxB5reW7VR"
    },
    {
      "cell_type": "code",
      "source": [
        "abstracts[3]"
      ],
      "metadata": {
        "colab": {
          "base_uri": "https://localhost:8080/",
          "height": 53
        },
        "id": "ZrdEA3bzJe9a",
        "outputId": "06a6d5ca-b506-4165-9502-2949b85b1e59"
      },
      "id": "ZrdEA3bzJe9a",
      "execution_count": 108,
      "outputs": [
        {
          "output_type": "execute_result",
          "data": {
            "text/plain": [
              "'This paper describes a compression algorithm for probability transition matrices. The compressed matrix is itself a probability transition matrix. In general the compression is not error-free, but the error appears to be small even for high levels of compression.'"
            ],
            "application/vnd.google.colaboratory.intrinsic+json": {
              "type": "string"
            }
          },
          "metadata": {},
          "execution_count": 108
        }
      ]
    },
    {
      "cell_type": "markdown",
      "source": [
        "Create test edges. We want a potential edge pointing from 3 to every other node, and have our model score how likely each of these are."
      ],
      "metadata": {
        "id": "UKLFHagAXETw"
      },
      "id": "UKLFHagAXETw"
    },
    {
      "cell_type": "code",
      "source": [
        "qtarg = np.full(2994, 3)\n",
        "qother = np.hstack((np.arange(3), np.arange(4, 2995)))\n",
        "q_test_edge = np.vstack((qtarg, qother))\n",
        "q_test_edge = torch.Tensor(q_test_edge).to(torch.int64)\n",
        "q_test_edge"
      ],
      "metadata": {
        "colab": {
          "base_uri": "https://localhost:8080/"
        },
        "id": "cj0dhRoLkLZF",
        "outputId": "3b44bfe7-1328-4db4-e85b-068cd2c7c277"
      },
      "id": "cj0dhRoLkLZF",
      "execution_count": 109,
      "outputs": [
        {
          "output_type": "execute_result",
          "data": {
            "text/plain": [
              "tensor([[   3,    3,    3,  ...,    3,    3,    3],\n",
              "        [   0,    1,    2,  ..., 2992, 2993, 2994]])"
            ]
          },
          "metadata": {},
          "execution_count": 109
        }
      ]
    },
    {
      "cell_type": "markdown",
      "source": [
        "Have our model do the prediction and sort the potential papers in descending order of score."
      ],
      "metadata": {
        "id": "u7wleb60XQfk"
      },
      "id": "u7wleb60XQfk"
    },
    {
      "cell_type": "code",
      "source": [
        "with torch.no_grad():\n",
        "  model.eval()\n",
        "  qz = model.encode(test_data.x, test_data.edge_index)\n",
        "  qout = model.decode(qz, q_test_edge).view(-1).sigmoid()\n"
      ],
      "metadata": {
        "id": "R3ZXPME0jsDx"
      },
      "id": "R3ZXPME0jsDx",
      "execution_count": 110,
      "outputs": []
    },
    {
      "cell_type": "code",
      "source": [
        "qsorted = np.argsort(-qout.cpu().numpy())\n",
        "qsorted"
      ],
      "metadata": {
        "colab": {
          "base_uri": "https://localhost:8080/"
        },
        "id": "r9mWPObIl0Ex",
        "outputId": "6a1ae219-4701-473c-e06f-94f88162fe58"
      },
      "id": "r9mWPObIl0Ex",
      "execution_count": 111,
      "outputs": [
        {
          "output_type": "execute_result",
          "data": {
            "text/plain": [
              "array([2374,  266, 1994, ..., 1474, 1233, 1149])"
            ]
          },
          "metadata": {},
          "execution_count": 111
        }
      ]
    },
    {
      "cell_type": "code",
      "source": [
        "qsorted[:10]"
      ],
      "metadata": {
        "colab": {
          "base_uri": "https://localhost:8080/"
        },
        "id": "jogq4YHkm82w",
        "outputId": "a7ebf728-9581-455a-eb82-12c8961b4c16"
      },
      "id": "jogq4YHkm82w",
      "execution_count": 112,
      "outputs": [
        {
          "output_type": "execute_result",
          "data": {
            "text/plain": [
              "array([2374,  266, 1994,  473,  384, 1487,  471,  448,  269,  510])"
            ]
          },
          "metadata": {},
          "execution_count": 112
        }
      ]
    },
    {
      "cell_type": "markdown",
      "source": [
        "These are the 3 papers that our test paper (3) actually cites. As we can see, two of them deal with genetic algorithms."
      ],
      "metadata": {
        "id": "Kz17VZ3GXXjM"
      },
      "id": "Kz17VZ3GXXjM"
    },
    {
      "cell_type": "code",
      "source": [
        "graph.edge_index[:, graph.edge_index[0] == 3].numpy()"
      ],
      "metadata": {
        "colab": {
          "base_uri": "https://localhost:8080/"
        },
        "id": "7Kox9SwRmrDs",
        "outputId": "bdb980bc-8c3c-43a5-d7d4-8525e9b20c4b"
      },
      "id": "7Kox9SwRmrDs",
      "execution_count": 113,
      "outputs": [
        {
          "output_type": "execute_result",
          "data": {
            "text/plain": [
              "array([[  3,   3,   3],\n",
              "       [253, 507, 254]])"
            ]
          },
          "metadata": {},
          "execution_count": 113
        }
      ]
    },
    {
      "cell_type": "code",
      "source": [
        "for i in graph.edge_index[:, graph.edge_index[0] == 3][1].numpy():\n",
        "  print(abstracts[i])"
      ],
      "metadata": {
        "colab": {
          "base_uri": "https://localhost:8080/"
        },
        "id": "u2hWVDwLKUwS",
        "outputId": "8b334d41-d33c-45c0-b455-9961929e0671"
      },
      "id": "u2hWVDwLKUwS",
      "execution_count": 114,
      "outputs": [
        {
          "output_type": "stream",
          "name": "stdout",
          "text": [
            "Our theoretical understanding of the properties of genetic algorithms (GAs) being used for function optimization (GAFOs) is not as strong as we would like. Traditional schema analysis provides some first order insights, but doesn't capture the non-linear dynamics of the GA search process very well. Markov chain theory has been used primarily for steady state analysis of GAs. In this paper we explore the use of transient Markov chain analysis to model and understand the behavior of finite population GAFOs observed while in transition to steady states. This approach appears to provide new insights into the circumstances under which GAFOs will (will not) perform well. Some preliminary results are presented and an initial evaluation of the merits of this approach is provided.\n",
            "Evolutionary computation uses computational models of evolution - ary processes as key elements in the design and implementation of computer-based problem solving systems. In this paper we provide an overview of evolutionary computation, and describe several evolutionary algorithms that are currently of interest. Important similarities and di fferences are noted, which lead to a discussion of important issues that need to be resolved, and items for future research.\n",
            "At the previous FOGA workshop, we presented some initial results on using Markov models to analyze the transient behavior of genetic algorithms (GAs) being used as function optimizers (GAFOs). In that paper, the states of the Markov model were ordered via a simple and mathematically convenient lexicographic ordering used initially by Nix and Vose. In this paper, we explore alternative orderings of states based on interesting semantic properties such as average fitness, degree of homogeneity, average attractive force, etc. We also explore lumping techniques for reducing the size of the state space. Analysis of these reordered and lumped Markov models provides new insights into the transient behavior of GAs in general and GAFOs in particular.\n"
          ]
        }
      ]
    },
    {
      "cell_type": "markdown",
      "source": [
        "Here are our top 3 predictions. We see a genetic algorithms paper in there but it has nothing to do with compression algorithms or stochastic modeling. The other two papers are also quite irrelevant."
      ],
      "metadata": {
        "id": "8UbsxEzKXhKI"
      },
      "id": "8UbsxEzKXhKI"
    },
    {
      "cell_type": "code",
      "source": [
        "for i in qsorted[:3]:\n",
        "  print(abstracts[i])"
      ],
      "metadata": {
        "colab": {
          "base_uri": "https://localhost:8080/"
        },
        "id": "Azri94eAnVgh",
        "outputId": "5b54b7c2-ddcc-4618-c97f-027804caffd7"
      },
      "id": "Azri94eAnVgh",
      "execution_count": 115,
      "outputs": [
        {
          "output_type": "stream",
          "name": "stdout",
          "text": [
            "This paper discusses the problem of how to implement many-to-many, or multi-associative, mapping within connectionist models. Traditional symbolic approaches work through explicit representation of all alternatives via stored links, or implicitly through enumerative algorithms. Classical pattern association models ignore the issue of generating multiple outputs for a single input pattern, and while recent research on recurrent networks is promising, the field has not clearly focused upon multi-associativity as a goal. In this paper, we define multiassociative memory (MM), and several possible variants, and discuss its utility in general cognitive modeling. We extend sequential cascaded networks (Pollack 1987, 1990a) to fit the task, and perform several initial experiments which demonstrate the feasibility of the concept.\n",
            "Genetic algorithms have been used for neural networks in two main ways: to optimize the network architecture and to train the weights of a fixed architecture. While most previous work focuses on only one of these two options, this paper investigates an alternative evolutionary approach called Breeder Genetic Programming (BGP) in which the architecture and the weights are optimized simultaneously. The genotype of each network is represented as a tree whose depth and width are dynamically adapted to the particular application by specifically defined genetic operators. The weights are trained by a next-ascent hillclimbing search. A new fitness function is proposed that quantifies the principle of Occam's razor. It makes an optimal trade-off between the error fitting ability and the parsimony of the network. Simulation results on two benchmark problems of differing complexity suggest that the method finds minimal size networks on clean data. The experiments on noisy data show that using Occam's razor not only improves the generalization performance, it also accel erates the convergence speed of evolution. fl Published in Complex Systems, 7(3): 199-220, 1993\n",
            "We present a system that lets 3-D models evolve over time, eventually produce novel models that are more desirable than initial models. The algorithm starts with some crude models given by the user, or randomly-generated models from a given model-grammar with generic design rules and loose constraints. The underlying philosophy here is to gradually evolve the initial models into better models over many generations. There is a close analog in the evolution of species where better-fit species gradually emerge and form specialized niches, a highly efficient process of complex structural and functional optimization. Our simulation results for model jet plane designs illustrate that our approach to model design and refinement is both feasible and effective.\n"
          ]
        }
      ]
    },
    {
      "cell_type": "markdown",
      "source": [
        "## Evaluations on `ogbn-arxiv`"
      ],
      "metadata": {
        "id": "UsIyNep0XxHd"
      },
      "id": "UsIyNep0XxHd"
    },
    {
      "cell_type": "code",
      "source": [
        "!pip install ogb"
      ],
      "metadata": {
        "colab": {
          "base_uri": "https://localhost:8080/"
        },
        "id": "MNOYJQeOKIbU",
        "outputId": "1d34ed04-e730-4b7e-eac8-eb45f163323a"
      },
      "id": "MNOYJQeOKIbU",
      "execution_count": 20,
      "outputs": [
        {
          "output_type": "stream",
          "name": "stdout",
          "text": [
            "Collecting ogb\n",
            "  Downloading ogb-1.3.6-py3-none-any.whl (78 kB)\n",
            "\u001b[?25l     \u001b[90m━━━━━━━━━━━━━━━━━━━━━━━━━━━━━━━━━━━━━━━━\u001b[0m \u001b[32m0.0/78.8 kB\u001b[0m \u001b[31m?\u001b[0m eta \u001b[36m-:--:--\u001b[0m\r\u001b[2K     \u001b[90m━━━━━━━━━━━━━━━━━━━━━━━━━━━━━━━━━━━━━━━━\u001b[0m \u001b[32m78.8/78.8 kB\u001b[0m \u001b[31m2.3 MB/s\u001b[0m eta \u001b[36m0:00:00\u001b[0m\n",
            "\u001b[?25hRequirement already satisfied: torch>=1.6.0 in /usr/local/lib/python3.10/dist-packages (from ogb) (2.2.1+cu121)\n",
            "Requirement already satisfied: numpy>=1.16.0 in /usr/local/lib/python3.10/dist-packages (from ogb) (1.25.2)\n",
            "Requirement already satisfied: tqdm>=4.29.0 in /usr/local/lib/python3.10/dist-packages (from ogb) (4.66.4)\n",
            "Requirement already satisfied: scikit-learn>=0.20.0 in /usr/local/lib/python3.10/dist-packages (from ogb) (1.2.2)\n",
            "Requirement already satisfied: pandas>=0.24.0 in /usr/local/lib/python3.10/dist-packages (from ogb) (2.0.3)\n",
            "Requirement already satisfied: six>=1.12.0 in /usr/local/lib/python3.10/dist-packages (from ogb) (1.16.0)\n",
            "Requirement already satisfied: urllib3>=1.24.0 in /usr/local/lib/python3.10/dist-packages (from ogb) (2.0.7)\n",
            "Collecting outdated>=0.2.0 (from ogb)\n",
            "  Downloading outdated-0.2.2-py2.py3-none-any.whl (7.5 kB)\n",
            "Requirement already satisfied: setuptools>=44 in /usr/local/lib/python3.10/dist-packages (from outdated>=0.2.0->ogb) (67.7.2)\n",
            "Collecting littleutils (from outdated>=0.2.0->ogb)\n",
            "  Downloading littleutils-0.2.2.tar.gz (6.6 kB)\n",
            "  Preparing metadata (setup.py) ... \u001b[?25l\u001b[?25hdone\n",
            "Requirement already satisfied: requests in /usr/local/lib/python3.10/dist-packages (from outdated>=0.2.0->ogb) (2.31.0)\n",
            "Requirement already satisfied: python-dateutil>=2.8.2 in /usr/local/lib/python3.10/dist-packages (from pandas>=0.24.0->ogb) (2.8.2)\n",
            "Requirement already satisfied: pytz>=2020.1 in /usr/local/lib/python3.10/dist-packages (from pandas>=0.24.0->ogb) (2023.4)\n",
            "Requirement already satisfied: tzdata>=2022.1 in /usr/local/lib/python3.10/dist-packages (from pandas>=0.24.0->ogb) (2024.1)\n",
            "Requirement already satisfied: scipy>=1.3.2 in /usr/local/lib/python3.10/dist-packages (from scikit-learn>=0.20.0->ogb) (1.11.4)\n",
            "Requirement already satisfied: joblib>=1.1.1 in /usr/local/lib/python3.10/dist-packages (from scikit-learn>=0.20.0->ogb) (1.4.2)\n",
            "Requirement already satisfied: threadpoolctl>=2.0.0 in /usr/local/lib/python3.10/dist-packages (from scikit-learn>=0.20.0->ogb) (3.5.0)\n",
            "Requirement already satisfied: filelock in /usr/local/lib/python3.10/dist-packages (from torch>=1.6.0->ogb) (3.14.0)\n",
            "Requirement already satisfied: typing-extensions>=4.8.0 in /usr/local/lib/python3.10/dist-packages (from torch>=1.6.0->ogb) (4.11.0)\n",
            "Requirement already satisfied: sympy in /usr/local/lib/python3.10/dist-packages (from torch>=1.6.0->ogb) (1.12)\n",
            "Requirement already satisfied: networkx in /usr/local/lib/python3.10/dist-packages (from torch>=1.6.0->ogb) (3.3)\n",
            "Requirement already satisfied: jinja2 in /usr/local/lib/python3.10/dist-packages (from torch>=1.6.0->ogb) (3.1.3)\n",
            "Requirement already satisfied: fsspec in /usr/local/lib/python3.10/dist-packages (from torch>=1.6.0->ogb) (2023.6.0)\n",
            "Collecting nvidia-cuda-nvrtc-cu12==12.1.105 (from torch>=1.6.0->ogb)\n",
            "  Using cached nvidia_cuda_nvrtc_cu12-12.1.105-py3-none-manylinux1_x86_64.whl (23.7 MB)\n",
            "Collecting nvidia-cuda-runtime-cu12==12.1.105 (from torch>=1.6.0->ogb)\n",
            "  Using cached nvidia_cuda_runtime_cu12-12.1.105-py3-none-manylinux1_x86_64.whl (823 kB)\n",
            "Collecting nvidia-cuda-cupti-cu12==12.1.105 (from torch>=1.6.0->ogb)\n",
            "  Using cached nvidia_cuda_cupti_cu12-12.1.105-py3-none-manylinux1_x86_64.whl (14.1 MB)\n",
            "Collecting nvidia-cudnn-cu12==8.9.2.26 (from torch>=1.6.0->ogb)\n",
            "  Using cached nvidia_cudnn_cu12-8.9.2.26-py3-none-manylinux1_x86_64.whl (731.7 MB)\n",
            "Collecting nvidia-cublas-cu12==12.1.3.1 (from torch>=1.6.0->ogb)\n",
            "  Using cached nvidia_cublas_cu12-12.1.3.1-py3-none-manylinux1_x86_64.whl (410.6 MB)\n",
            "Collecting nvidia-cufft-cu12==11.0.2.54 (from torch>=1.6.0->ogb)\n",
            "  Using cached nvidia_cufft_cu12-11.0.2.54-py3-none-manylinux1_x86_64.whl (121.6 MB)\n",
            "Collecting nvidia-curand-cu12==10.3.2.106 (from torch>=1.6.0->ogb)\n",
            "  Using cached nvidia_curand_cu12-10.3.2.106-py3-none-manylinux1_x86_64.whl (56.5 MB)\n",
            "Collecting nvidia-cusolver-cu12==11.4.5.107 (from torch>=1.6.0->ogb)\n",
            "  Using cached nvidia_cusolver_cu12-11.4.5.107-py3-none-manylinux1_x86_64.whl (124.2 MB)\n",
            "Collecting nvidia-cusparse-cu12==12.1.0.106 (from torch>=1.6.0->ogb)\n",
            "  Using cached nvidia_cusparse_cu12-12.1.0.106-py3-none-manylinux1_x86_64.whl (196.0 MB)\n",
            "Collecting nvidia-nccl-cu12==2.19.3 (from torch>=1.6.0->ogb)\n",
            "  Using cached nvidia_nccl_cu12-2.19.3-py3-none-manylinux1_x86_64.whl (166.0 MB)\n",
            "Collecting nvidia-nvtx-cu12==12.1.105 (from torch>=1.6.0->ogb)\n",
            "  Using cached nvidia_nvtx_cu12-12.1.105-py3-none-manylinux1_x86_64.whl (99 kB)\n",
            "Requirement already satisfied: triton==2.2.0 in /usr/local/lib/python3.10/dist-packages (from torch>=1.6.0->ogb) (2.2.0)\n",
            "Collecting nvidia-nvjitlink-cu12 (from nvidia-cusolver-cu12==11.4.5.107->torch>=1.6.0->ogb)\n",
            "  Using cached nvidia_nvjitlink_cu12-12.4.127-py3-none-manylinux2014_x86_64.whl (21.1 MB)\n",
            "Requirement already satisfied: MarkupSafe>=2.0 in /usr/local/lib/python3.10/dist-packages (from jinja2->torch>=1.6.0->ogb) (2.1.5)\n",
            "Requirement already satisfied: charset-normalizer<4,>=2 in /usr/local/lib/python3.10/dist-packages (from requests->outdated>=0.2.0->ogb) (3.3.2)\n",
            "Requirement already satisfied: idna<4,>=2.5 in /usr/local/lib/python3.10/dist-packages (from requests->outdated>=0.2.0->ogb) (3.7)\n",
            "Requirement already satisfied: certifi>=2017.4.17 in /usr/local/lib/python3.10/dist-packages (from requests->outdated>=0.2.0->ogb) (2024.2.2)\n",
            "Requirement already satisfied: mpmath>=0.19 in /usr/local/lib/python3.10/dist-packages (from sympy->torch>=1.6.0->ogb) (1.3.0)\n",
            "Building wheels for collected packages: littleutils\n",
            "  Building wheel for littleutils (setup.py) ... \u001b[?25l\u001b[?25hdone\n",
            "  Created wheel for littleutils: filename=littleutils-0.2.2-py3-none-any.whl size=7029 sha256=1f1faed20669db9a422491d1a6c75925496e802e761428400ea4c89ddd5a6a47\n",
            "  Stored in directory: /root/.cache/pip/wheels/3d/fe/b0/27a9892da57472e538c7452a721a9cf463cc03cf7379889266\n",
            "Successfully built littleutils\n",
            "Installing collected packages: littleutils, nvidia-nvtx-cu12, nvidia-nvjitlink-cu12, nvidia-nccl-cu12, nvidia-curand-cu12, nvidia-cufft-cu12, nvidia-cuda-runtime-cu12, nvidia-cuda-nvrtc-cu12, nvidia-cuda-cupti-cu12, nvidia-cublas-cu12, outdated, nvidia-cusparse-cu12, nvidia-cudnn-cu12, nvidia-cusolver-cu12, ogb\n",
            "Successfully installed littleutils-0.2.2 nvidia-cublas-cu12-12.1.3.1 nvidia-cuda-cupti-cu12-12.1.105 nvidia-cuda-nvrtc-cu12-12.1.105 nvidia-cuda-runtime-cu12-12.1.105 nvidia-cudnn-cu12-8.9.2.26 nvidia-cufft-cu12-11.0.2.54 nvidia-curand-cu12-10.3.2.106 nvidia-cusolver-cu12-11.4.5.107 nvidia-cusparse-cu12-12.1.0.106 nvidia-nccl-cu12-2.19.3 nvidia-nvjitlink-cu12-12.4.127 nvidia-nvtx-cu12-12.1.105 ogb-1.3.6 outdated-0.2.2\n"
          ]
        }
      ]
    },
    {
      "cell_type": "code",
      "source": [
        "from ogb.nodeproppred import PygNodePropPredDataset"
      ],
      "metadata": {
        "id": "v4b-SesbJRXw"
      },
      "id": "v4b-SesbJRXw",
      "execution_count": 21,
      "outputs": []
    },
    {
      "cell_type": "code",
      "source": [
        "arxiv_name = 'ogbn-arxiv'\n",
        "dataset_arx = PygNodePropPredDataset(name = arxiv_name)"
      ],
      "metadata": {
        "colab": {
          "base_uri": "https://localhost:8080/"
        },
        "id": "Xa_SDZ9AKIAj",
        "outputId": "5fdf6d6b-f5fd-45e3-8033-dd77e3b4dcb2"
      },
      "id": "Xa_SDZ9AKIAj",
      "execution_count": 22,
      "outputs": [
        {
          "output_type": "stream",
          "name": "stdout",
          "text": [
            "Downloading http://snap.stanford.edu/ogb/data/nodeproppred/arxiv.zip\n"
          ]
        },
        {
          "output_type": "stream",
          "name": "stderr",
          "text": [
            "Downloaded 0.08 GB: 100%|██████████| 81/81 [00:05<00:00, 15.96it/s]\n"
          ]
        },
        {
          "output_type": "stream",
          "name": "stdout",
          "text": [
            "Extracting dataset/arxiv.zip\n"
          ]
        },
        {
          "output_type": "stream",
          "name": "stderr",
          "text": [
            "Processing...\n"
          ]
        },
        {
          "output_type": "stream",
          "name": "stdout",
          "text": [
            "Loading necessary files...\n",
            "This might take a while.\n",
            "Processing graphs...\n"
          ]
        },
        {
          "output_type": "stream",
          "name": "stderr",
          "text": [
            "100%|██████████| 1/1 [00:00<00:00, 6442.86it/s]\n"
          ]
        },
        {
          "output_type": "stream",
          "name": "stdout",
          "text": [
            "Converting graphs into PyG objects...\n"
          ]
        },
        {
          "output_type": "stream",
          "name": "stderr",
          "text": [
            "100%|██████████| 1/1 [00:00<00:00, 1724.63it/s]"
          ]
        },
        {
          "output_type": "stream",
          "name": "stdout",
          "text": [
            "Saving...\n"
          ]
        },
        {
          "output_type": "stream",
          "name": "stderr",
          "text": [
            "\n",
            "Done!\n"
          ]
        }
      ]
    },
    {
      "cell_type": "markdown",
      "source": [
        "### Basic Dataset Stats"
      ],
      "metadata": {
        "id": "7LKJrydCYGtr"
      },
      "id": "7LKJrydCYGtr"
    },
    {
      "cell_type": "code",
      "source": [
        "graph_arx = dataset_arx[0]\n",
        "\n",
        "split = T.RandomLinkSplit(\n",
        "    num_val=0.05,\n",
        "    num_test=0.1,\n",
        "    is_undirected=True,\n",
        "    add_negative_train_samples=False,\n",
        "    neg_sampling_ratio=1.0,\n",
        ")\n",
        "train_data, val_data, test_data = split(graph_arx)"
      ],
      "metadata": {
        "id": "plJbzSQeLHVD"
      },
      "id": "plJbzSQeLHVD",
      "execution_count": 23,
      "outputs": []
    },
    {
      "cell_type": "code",
      "source": [
        "print(train_data)\n",
        "print(val_data)\n",
        "print(test_data)"
      ],
      "metadata": {
        "colab": {
          "base_uri": "https://localhost:8080/"
        },
        "id": "3Say8HK9N40r",
        "outputId": "598424bb-d54f-4be0-e068-9f4742379cf7"
      },
      "id": "3Say8HK9N40r",
      "execution_count": 24,
      "outputs": [
        {
          "output_type": "stream",
          "name": "stdout",
          "text": [
            "Data(num_nodes=169343, edge_index=[2, 969694], x=[169343, 128], node_year=[169343, 1], y=[169343, 1], edge_label=[484847], edge_label_index=[2, 484847])\n",
            "Data(num_nodes=169343, edge_index=[2, 969694], x=[169343, 128], node_year=[169343, 1], y=[169343, 1], edge_label=[57040], edge_label_index=[2, 57040])\n",
            "Data(num_nodes=169343, edge_index=[2, 1026734], x=[169343, 128], node_year=[169343, 1], y=[169343, 1], edge_label=[114080], edge_label_index=[2, 114080])\n"
          ]
        }
      ]
    },
    {
      "cell_type": "code",
      "source": [
        "print(f'Number of nodes: {graph_arx.num_nodes}')\n",
        "print(f'Number of edges: {graph_arx.num_edges}')\n",
        "print(f'Average node degree: {graph_arx.num_edges / graph_arx.num_nodes:.2f}')\n",
        "print(f'Has isolated nodes: {graph_arx.has_isolated_nodes()}')\n",
        "print(f'Has self-loops: {graph_arx.has_self_loops()}')\n",
        "print(f'Is undirected: {graph_arx.is_undirected()}')"
      ],
      "metadata": {
        "colab": {
          "base_uri": "https://localhost:8080/"
        },
        "id": "NhFtlG2NXpXT",
        "outputId": "0565ea8b-2f8d-4416-e054-41e1a840cab4"
      },
      "id": "NhFtlG2NXpXT",
      "execution_count": 27,
      "outputs": [
        {
          "output_type": "stream",
          "name": "stdout",
          "text": [
            "Number of nodes: 169343\n",
            "Number of edges: 1166243\n",
            "Average node degree: 6.89\n",
            "Has isolated nodes: False\n",
            "Has self-loops: False\n",
            "Is undirected: False\n"
          ]
        }
      ]
    },
    {
      "cell_type": "markdown",
      "source": [
        "Much higher node degree than `Cora_ML`, which could be useful for us."
      ],
      "metadata": {
        "id": "PnfAlyanYctl"
      },
      "id": "PnfAlyanYctl"
    },
    {
      "cell_type": "markdown",
      "source": [
        "### Training"
      ],
      "metadata": {
        "id": "5gf3RdMQYn8A"
      },
      "id": "5gf3RdMQYn8A"
    },
    {
      "cell_type": "code",
      "source": [
        "EPOCHS = 100\n",
        "\n",
        "model = Net(graph_arx.num_features, 128, 64).to('cpu')\n",
        "optimizer = torch.optim.Adam(params=model.parameters(), lr=0.001)\n",
        "criterion = torch.nn.BCEWithLogitsLoss()\n",
        "model, train_errs, val_errs  = train(model, train_data, val_data, optimizer, criterion, n_epochs=EPOCHS)\n",
        "\n",
        "test_auc = evaluate(model, test_data)\n",
        "print(f\"Test: {test_auc:.3f}\")"
      ],
      "metadata": {
        "colab": {
          "base_uri": "https://localhost:8080/"
        },
        "id": "H-pLeTYfOGsZ",
        "outputId": "021a19da-f54c-4f4c-bea0-ead1f87d32ec"
      },
      "id": "H-pLeTYfOGsZ",
      "execution_count": 28,
      "outputs": [
        {
          "output_type": "stream",
          "name": "stdout",
          "text": [
            "Epoch: 010, Train Loss: 0.604, Val AUC: 0.877\n",
            "Epoch: 020, Train Loss: 0.580, Val AUC: 0.908\n",
            "Epoch: 030, Train Loss: 0.538, Val AUC: 0.925\n",
            "Epoch: 040, Train Loss: 0.492, Val AUC: 0.919\n",
            "Epoch: 050, Train Loss: 0.480, Val AUC: 0.917\n",
            "Epoch: 060, Train Loss: 0.469, Val AUC: 0.929\n",
            "Epoch: 070, Train Loss: 0.464, Val AUC: 0.934\n",
            "Epoch: 080, Train Loss: 0.461, Val AUC: 0.936\n",
            "Epoch: 090, Train Loss: 0.457, Val AUC: 0.939\n",
            "Epoch: 100, Train Loss: 0.455, Val AUC: 0.943\n",
            "Test: 0.945\n"
          ]
        }
      ]
    },
    {
      "cell_type": "code",
      "source": [
        "fig, ax = plt.subplots()\n",
        "ax.plot(train_errs,'r-',label='train')\n",
        "ax.plot(val_errs,'b-',label='validation')\n",
        "ax.set_ylim(0,1); ax.set_xlim(0,EPOCHS-1)\n",
        "ax.set_xlabel('Epoch'); ax.set_ylabel('Error')\n",
        "ax.set_title('ogbn-arxiv Validation Result %3.2f'%(val_errs[-1]))\n",
        "ax.legend()\n",
        "plt.show()"
      ],
      "metadata": {
        "colab": {
          "base_uri": "https://localhost:8080/",
          "height": 472
        },
        "id": "aKI-StGXOUaU",
        "outputId": "9ff52509-26e5-42f1-a628-53a451f7fca1"
      },
      "id": "aKI-StGXOUaU",
      "execution_count": 30,
      "outputs": [
        {
          "output_type": "display_data",
          "data": {
            "text/plain": [
              "<Figure size 640x480 with 1 Axes>"
            ],
            "image/png": "[encoded data removed]"
          },
          "metadata": {}
        }
      ]
    },
    {
      "cell_type": "markdown",
      "source": [
        "### Qualitative Evaluations"
      ],
      "metadata": {
        "id": "ZYmlSXLbYrYk"
      },
      "id": "ZYmlSXLbYrYk"
    },
    {
      "cell_type": "code",
      "source": [
        "import pandas as pd"
      ],
      "metadata": {
        "id": "qsV5nPhtXF8P"
      },
      "id": "qsV5nPhtXF8P",
      "execution_count": 31,
      "outputs": []
    },
    {
      "cell_type": "markdown",
      "source": [
        "Here we need to load in the separate file that maps MAG IDs to their title and abstracts. Later on, we will have to access another file that maps node indices to MAG IDs. With both taken together, we will be able to retrieve the original paper titles and abstracts of our predictions."
      ],
      "metadata": {
        "id": "rGc1JzcRYuqj"
      },
      "id": "rGc1JzcRYuqj"
    },
    {
      "cell_type": "code",
      "source": [
        "title_abs = pd.read_csv('./data/titleabs.tsv', sep='\\t', header=None)\n",
        "title_abs = title_abs.set_index(0)\n",
        "title_abs.head()"
      ],
      "metadata": {
        "colab": {
          "base_uri": "https://localhost:8080/",
          "height": 237
        },
        "id": "r9v7LkTAYK5P",
        "outputId": "34fd7377-1c7d-4db9-c4c7-b4b69ee731cd"
      },
      "id": "r9v7LkTAYK5P",
      "execution_count": 32,
      "outputs": [
        {
          "output_type": "execute_result",
          "data": {
            "text/plain": [
              "                                                         1  \\\n",
              "0                                                            \n",
              "200971            ontology as a source for rule generation   \n",
              "549074   a novel methodology for thermal analysis a 3 d...   \n",
              "630234   spreadsheets on the move an evaluation of mobi...   \n",
              "803423   multi view metric learning for multi view vide...   \n",
              "1102481    big data analytics in future internet of things   \n",
              "\n",
              "                                                         2  \n",
              "0                                                           \n",
              "200971   This paper discloses the potential of OWL (Web...  \n",
              "549074   The semiconductor industry is reaching a fasci...  \n",
              "630234   The power of mobile devices has increased dram...  \n",
              "803423   Traditional methods on video summarization are...  \n",
              "1102481  Current research on Internet of Things (IoT) m...  "
            ],
            "text/html": [
              "\n",
              "  <div id=\"df-0605da58-749c-4f5b-911b-7dbdc1f830fb\" class=\"colab-df-container\">\n",
              "    <div>\n",
              "<style scoped>\n",
              "    .dataframe tbody tr th:only-of-type {\n",
              "        vertical-align: middle;\n",
              "    }\n",
              "\n",
              "    .dataframe tbody tr th {\n",
              "        vertical-align: top;\n",
              "    }\n",
              "\n",
              "    .dataframe thead th {\n",
              "        text-align: right;\n",
              "    }\n",
              "</style>\n",
              "<table border=\"1\" class=\"dataframe\">\n",
              "  <thead>\n",
              "    <tr style=\"text-align: right;\">\n",
              "      <th></th>\n",
              "      <th>1</th>\n",
              "      <th>2</th>\n",
              "    </tr>\n",
              "    <tr>\n",
              "      <th>0</th>\n",
              "      <th></th>\n",
              "      <th></th>\n",
              "    </tr>\n",
              "  </thead>\n",
              "  <tbody>\n",
              "    <tr>\n",
              "      <th>200971</th>\n",
              "      <td>ontology as a source for rule generation</td>\n",
              "      <td>This paper discloses the potential of OWL (Web...</td>\n",
              "    </tr>\n",
              "    <tr>\n",
              "      <th>549074</th>\n",
              "      <td>a novel methodology for thermal analysis a 3 d...</td>\n",
              "      <td>The semiconductor industry is reaching a fasci...</td>\n",
              "    </tr>\n",
              "    <tr>\n",
              "      <th>630234</th>\n",
              "      <td>spreadsheets on the move an evaluation of mobi...</td>\n",
              "      <td>The power of mobile devices has increased dram...</td>\n",
              "    </tr>\n",
              "    <tr>\n",
              "      <th>803423</th>\n",
              "      <td>multi view metric learning for multi view vide...</td>\n",
              "      <td>Traditional methods on video summarization are...</td>\n",
              "    </tr>\n",
              "    <tr>\n",
              "      <th>1102481</th>\n",
              "      <td>big data analytics in future internet of things</td>\n",
              "      <td>Current research on Internet of Things (IoT) m...</td>\n",
              "    </tr>\n",
              "  </tbody>\n",
              "</table>\n",
              "</div>\n",
              "    <div class=\"colab-df-buttons\">\n",
              "\n",
              "  <div class=\"colab-df-container\">\n",
              "    <button class=\"colab-df-convert\" onclick=\"convertToInteractive('df-0605da58-749c-4f5b-911b-7dbdc1f830fb')\"\n",
              "            title=\"Convert this dataframe to an interactive table.\"\n",
              "            style=\"display:none;\">\n",
              "\n",
              "  <svg xmlns=\"http://www.w3.org/2000/svg\" height=\"24px\" viewBox=\"0 -960 960 960\">\n",
              "    <path d=\"M120-120v-720h720v720H120Zm60-500h600v-160H180v160Zm220 220h160v-160H400v160Zm0 220h160v-160H400v160ZM180-400h160v-160H180v160Zm440 0h160v-160H620v160ZM180-180h160v-160H180v160Zm440 0h160v-160H620v160Z\"/>\n",
              "  </svg>\n",
              "    </button>\n",
              "\n",
              "  <style>\n",
              "    .colab-df-container {\n",
              "      display:flex;\n",
              "      gap: 12px;\n",
              "    }\n",
              "\n",
              "    .colab-df-convert {\n",
              "      background-color: #E8F0FE;\n",
              "      border: none;\n",
              "      border-radius: 50%;\n",
              "      cursor: pointer;\n",
              "      display: none;\n",
              "      fill: #1967D2;\n",
              "      height: 32px;\n",
              "      padding: 0 0 0 0;\n",
              "      width: 32px;\n",
              "    }\n",
              "\n",
              "    .colab-df-convert:hover {\n",
              "      background-color: #E2EBFA;\n",
              "      box-shadow: 0px 1px 2px rgba(60, 64, 67, 0.3), 0px 1px 3px 1px rgba(60, 64, 67, 0.15);\n",
              "      fill: #174EA6;\n",
              "    }\n",
              "\n",
              "    .colab-df-buttons div {\n",
              "      margin-bottom: 4px;\n",
              "    }\n",
              "\n",
              "    [theme=dark] .colab-df-convert {\n",
              "      background-color: #3B4455;\n",
              "      fill: #D2E3FC;\n",
              "    }\n",
              "\n",
              "    [theme=dark] .colab-df-convert:hover {\n",
              "      background-color: #434B5C;\n",
              "      box-shadow: 0px 1px 3px 1px rgba(0, 0, 0, 0.15);\n",
              "      filter: drop-shadow(0px 1px 2px rgba(0, 0, 0, 0.3));\n",
              "      fill: #FFFFFF;\n",
              "    }\n",
              "  </style>\n",
              "\n",
              "    <script>\n",
              "      const buttonEl =\n",
              "        document.querySelector('#df-0605da58-749c-4f5b-911b-7dbdc1f830fb button.colab-df-convert');\n",
              "      buttonEl.style.display =\n",
              "        google.colab.kernel.accessAllowed ? 'block' : 'none';\n",
              "\n",
              "      async function convertToInteractive(key) {\n",
              "        const element = document.querySelector('#df-0605da58-749c-4f5b-911b-7dbdc1f830fb');\n",
              "        const dataTable =\n",
              "          await google.colab.kernel.invokeFunction('convertToInteractive',\n",
              "                                                    [key], {});\n",
              "        if (!dataTable) return;\n",
              "\n",
              "        const docLinkHtml = 'Like what you see? Visit the ' +\n",
              "          '<a target=\"_blank\" href=https://colab.research.google.com/notebooks/data_table.ipynb>data table notebook</a>'\n",
              "          + ' to learn more about interactive tables.';\n",
              "        element.innerHTML = '';\n",
              "        dataTable['output_type'] = 'display_data';\n",
              "        await google.colab.output.renderOutput(dataTable, element);\n",
              "        const docLink = document.createElement('div');\n",
              "        docLink.innerHTML = docLinkHtml;\n",
              "        element.appendChild(docLink);\n",
              "      }\n",
              "    </script>\n",
              "  </div>\n",
              "\n",
              "\n",
              "<div id=\"df-6d52a007-122e-4363-a4bb-d0fe80017cfd\">\n",
              "  <button class=\"colab-df-quickchart\" onclick=\"quickchart('df-6d52a007-122e-4363-a4bb-d0fe80017cfd')\"\n",
              "            title=\"Suggest charts\"\n",
              "            style=\"display:none;\">\n",
              "\n",
              "<svg xmlns=\"http://www.w3.org/2000/svg\" height=\"24px\"viewBox=\"0 0 24 24\"\n",
              "     width=\"24px\">\n",
              "    <g>\n",
              "        <path d=\"M19 3H5c-1.1 0-2 .9-2 2v14c0 1.1.9 2 2 2h14c1.1 0 2-.9 2-2V5c0-1.1-.9-2-2-2zM9 17H7v-7h2v7zm4 0h-2V7h2v10zm4 0h-2v-4h2v4z\"/>\n",
              "    </g>\n",
              "</svg>\n",
              "  </button>\n",
              "\n",
              "<style>\n",
              "  .colab-df-quickchart {\n",
              "      --bg-color: #E8F0FE;\n",
              "      --fill-color: #1967D2;\n",
              "      --hover-bg-color: #E2EBFA;\n",
              "      --hover-fill-color: #174EA6;\n",
              "      --disabled-fill-color: #AAA;\n",
              "      --disabled-bg-color: #DDD;\n",
              "  }\n",
              "\n",
              "  [theme=dark] .colab-df-quickchart {\n",
              "      --bg-color: #3B4455;\n",
              "      --fill-color: #D2E3FC;\n",
              "      --hover-bg-color: #434B5C;\n",
              "      --hover-fill-color: #FFFFFF;\n",
              "      --disabled-bg-color: #3B4455;\n",
              "      --disabled-fill-color: #666;\n",
              "  }\n",
              "\n",
              "  .colab-df-quickchart {\n",
              "    background-color: var(--bg-color);\n",
              "    border: none;\n",
              "    border-radius: 50%;\n",
              "    cursor: pointer;\n",
              "    display: none;\n",
              "    fill: var(--fill-color);\n",
              "    height: 32px;\n",
              "    padding: 0;\n",
              "    width: 32px;\n",
              "  }\n",
              "\n",
              "  .colab-df-quickchart:hover {\n",
              "    background-color: var(--hover-bg-color);\n",
              "    box-shadow: 0 1px 2px rgba(60, 64, 67, 0.3), 0 1px 3px 1px rgba(60, 64, 67, 0.15);\n",
              "    fill: var(--button-hover-fill-color);\n",
              "  }\n",
              "\n",
              "  .colab-df-quickchart-complete:disabled,\n",
              "  .colab-df-quickchart-complete:disabled:hover {\n",
              "    background-color: var(--disabled-bg-color);\n",
              "    fill: var(--disabled-fill-color);\n",
              "    box-shadow: none;\n",
              "  }\n",
              "\n",
              "  .colab-df-spinner {\n",
              "    border: 2px solid var(--fill-color);\n",
              "    border-color: transparent;\n",
              "    border-bottom-color: var(--fill-color);\n",
              "    animation:\n",
              "      spin 1s steps(1) infinite;\n",
              "  }\n",
              "\n",
              "  @keyframes spin {\n",
              "    0% {\n",
              "      border-color: transparent;\n",
              "      border-bottom-color: var(--fill-color);\n",
              "      border-left-color: var(--fill-color);\n",
              "    }\n",
              "    20% {\n",
              "      border-color: transparent;\n",
              "      border-left-color: var(--fill-color);\n",
              "      border-top-color: var(--fill-color);\n",
              "    }\n",
              "    30% {\n",
              "      border-color: transparent;\n",
              "      border-left-color: var(--fill-color);\n",
              "      border-top-color: var(--fill-color);\n",
              "      border-right-color: var(--fill-color);\n",
              "    }\n",
              "    40% {\n",
              "      border-color: transparent;\n",
              "      border-right-color: var(--fill-color);\n",
              "      border-top-color: var(--fill-color);\n",
              "    }\n",
              "    60% {\n",
              "      border-color: transparent;\n",
              "      border-right-color: var(--fill-color);\n",
              "    }\n",
              "    80% {\n",
              "      border-color: transparent;\n",
              "      border-right-color: var(--fill-color);\n",
              "      border-bottom-color: var(--fill-color);\n",
              "    }\n",
              "    90% {\n",
              "      border-color: transparent;\n",
              "      border-bottom-color: var(--fill-color);\n",
              "    }\n",
              "  }\n",
              "</style>\n",
              "\n",
              "  <script>\n",
              "    async function quickchart(key) {\n",
              "      const quickchartButtonEl =\n",
              "        document.querySelector('#' + key + ' button');\n",
              "      quickchartButtonEl.disabled = true;  // To prevent multiple clicks.\n",
              "      quickchartButtonEl.classList.add('colab-df-spinner');\n",
              "      try {\n",
              "        const charts = await google.colab.kernel.invokeFunction(\n",
              "            'suggestCharts', [key], {});\n",
              "      } catch (error) {\n",
              "        console.error('Error during call to suggestCharts:', error);\n",
              "      }\n",
              "      quickchartButtonEl.classList.remove('colab-df-spinner');\n",
              "      quickchartButtonEl.classList.add('colab-df-quickchart-complete');\n",
              "    }\n",
              "    (() => {\n",
              "      let quickchartButtonEl =\n",
              "        document.querySelector('#df-6d52a007-122e-4363-a4bb-d0fe80017cfd button');\n",
              "      quickchartButtonEl.style.display =\n",
              "        google.colab.kernel.accessAllowed ? 'block' : 'none';\n",
              "    })();\n",
              "  </script>\n",
              "</div>\n",
              "\n",
              "    </div>\n",
              "  </div>\n"
            ],
            "application/vnd.google.colaboratory.intrinsic+json": {
              "type": "dataframe",
              "variable_name": "title_abs"
            }
          },
          "metadata": {},
          "execution_count": 32
        }
      ]
    },
    {
      "cell_type": "markdown",
      "source": [
        "This is the mapping from node index to MAG ID, which comes in the directory created by `ogb`."
      ],
      "metadata": {
        "id": "sjxpLAWXZFv-"
      },
      "id": "sjxpLAWXZFv-"
    },
    {
      "cell_type": "code",
      "source": [
        "node2paper = pd.read_csv('./dataset/ogbn_arxiv/mapping/nodeidx2paperid.csv.gz')\n",
        "node2paper = node2paper.set_index('node idx')\n",
        "node2paper"
      ],
      "metadata": {
        "colab": {
          "base_uri": "https://localhost:8080/",
          "height": 455
        },
        "id": "W5haOCqjcWOl",
        "outputId": "f1259ce9-36b1-485c-abf1-579257e6dc50"
      },
      "id": "W5haOCqjcWOl",
      "execution_count": 35,
      "outputs": [
        {
          "output_type": "execute_result",
          "data": {
            "text/plain": [
              "            paper id\n",
              "node idx            \n",
              "0            9657784\n",
              "1           39886162\n",
              "2          116214155\n",
              "3          121432379\n",
              "4          231147053\n",
              "...              ...\n",
              "169338    3011696425\n",
              "169339    3011708313\n",
              "169340    3011798063\n",
              "169341    3012226457\n",
              "169342    3012505757\n",
              "\n",
              "[169343 rows x 1 columns]"
            ],
            "text/html": [
              "\n",
              "  <div id=\"df-b8cdf019-b46a-45e2-9746-1eeca39e6b2b\" class=\"colab-df-container\">\n",
              "    <div>\n",
              "<style scoped>\n",
              "    .dataframe tbody tr th:only-of-type {\n",
              "        vertical-align: middle;\n",
              "    }\n",
              "\n",
              "    .dataframe tbody tr th {\n",
              "        vertical-align: top;\n",
              "    }\n",
              "\n",
              "    .dataframe thead th {\n",
              "        text-align: right;\n",
              "    }\n",
              "</style>\n",
              "<table border=\"1\" class=\"dataframe\">\n",
              "  <thead>\n",
              "    <tr style=\"text-align: right;\">\n",
              "      <th></th>\n",
              "      <th>paper id</th>\n",
              "    </tr>\n",
              "    <tr>\n",
              "      <th>node idx</th>\n",
              "      <th></th>\n",
              "    </tr>\n",
              "  </thead>\n",
              "  <tbody>\n",
              "    <tr>\n",
              "      <th>0</th>\n",
              "      <td>9657784</td>\n",
              "    </tr>\n",
              "    <tr>\n",
              "      <th>1</th>\n",
              "      <td>39886162</td>\n",
              "    </tr>\n",
              "    <tr>\n",
              "      <th>2</th>\n",
              "      <td>116214155</td>\n",
              "    </tr>\n",
              "    <tr>\n",
              "      <th>3</th>\n",
              "      <td>121432379</td>\n",
              "    </tr>\n",
              "    <tr>\n",
              "      <th>4</th>\n",
              "      <td>231147053</td>\n",
              "    </tr>\n",
              "    <tr>\n",
              "      <th>...</th>\n",
              "      <td>...</td>\n",
              "    </tr>\n",
              "    <tr>\n",
              "      <th>169338</th>\n",
              "      <td>3011696425</td>\n",
              "    </tr>\n",
              "    <tr>\n",
              "      <th>169339</th>\n",
              "      <td>3011708313</td>\n",
              "    </tr>\n",
              "    <tr>\n",
              "      <th>169340</th>\n",
              "      <td>3011798063</td>\n",
              "    </tr>\n",
              "    <tr>\n",
              "      <th>169341</th>\n",
              "      <td>3012226457</td>\n",
              "    </tr>\n",
              "    <tr>\n",
              "      <th>169342</th>\n",
              "      <td>3012505757</td>\n",
              "    </tr>\n",
              "  </tbody>\n",
              "</table>\n",
              "<p>169343 rows × 1 columns</p>\n",
              "</div>\n",
              "    <div class=\"colab-df-buttons\">\n",
              "\n",
              "  <div class=\"colab-df-container\">\n",
              "    <button class=\"colab-df-convert\" onclick=\"convertToInteractive('df-b8cdf019-b46a-45e2-9746-1eeca39e6b2b')\"\n",
              "            title=\"Convert this dataframe to an interactive table.\"\n",
              "            style=\"display:none;\">\n",
              "\n",
              "  <svg xmlns=\"http://www.w3.org/2000/svg\" height=\"24px\" viewBox=\"0 -960 960 960\">\n",
              "    <path d=\"M120-120v-720h720v720H120Zm60-500h600v-160H180v160Zm220 220h160v-160H400v160Zm0 220h160v-160H400v160ZM180-400h160v-160H180v160Zm440 0h160v-160H620v160ZM180-180h160v-160H180v160Zm440 0h160v-160H620v160Z\"/>\n",
              "  </svg>\n",
              "    </button>\n",
              "\n",
              "  <style>\n",
              "    .colab-df-container {\n",
              "      display:flex;\n",
              "      gap: 12px;\n",
              "    }\n",
              "\n",
              "    .colab-df-convert {\n",
              "      background-color: #E8F0FE;\n",
              "      border: none;\n",
              "      border-radius: 50%;\n",
              "      cursor: pointer;\n",
              "      display: none;\n",
              "      fill: #1967D2;\n",
              "      height: 32px;\n",
              "      padding: 0 0 0 0;\n",
              "      width: 32px;\n",
              "    }\n",
              "\n",
              "    .colab-df-convert:hover {\n",
              "      background-color: #E2EBFA;\n",
              "      box-shadow: 0px 1px 2px rgba(60, 64, 67, 0.3), 0px 1px 3px 1px rgba(60, 64, 67, 0.15);\n",
              "      fill: #174EA6;\n",
              "    }\n",
              "\n",
              "    .colab-df-buttons div {\n",
              "      margin-bottom: 4px;\n",
              "    }\n",
              "\n",
              "    [theme=dark] .colab-df-convert {\n",
              "      background-color: #3B4455;\n",
              "      fill: #D2E3FC;\n",
              "    }\n",
              "\n",
              "    [theme=dark] .colab-df-convert:hover {\n",
              "      background-color: #434B5C;\n",
              "      box-shadow: 0px 1px 3px 1px rgba(0, 0, 0, 0.15);\n",
              "      filter: drop-shadow(0px 1px 2px rgba(0, 0, 0, 0.3));\n",
              "      fill: #FFFFFF;\n",
              "    }\n",
              "  </style>\n",
              "\n",
              "    <script>\n",
              "      const buttonEl =\n",
              "        document.querySelector('#df-b8cdf019-b46a-45e2-9746-1eeca39e6b2b button.colab-df-convert');\n",
              "      buttonEl.style.display =\n",
              "        google.colab.kernel.accessAllowed ? 'block' : 'none';\n",
              "\n",
              "      async function convertToInteractive(key) {\n",
              "        const element = document.querySelector('#df-b8cdf019-b46a-45e2-9746-1eeca39e6b2b');\n",
              "        const dataTable =\n",
              "          await google.colab.kernel.invokeFunction('convertToInteractive',\n",
              "                                                    [key], {});\n",
              "        if (!dataTable) return;\n",
              "\n",
              "        const docLinkHtml = 'Like what you see? Visit the ' +\n",
              "          '<a target=\"_blank\" href=https://colab.research.google.com/notebooks/data_table.ipynb>data table notebook</a>'\n",
              "          + ' to learn more about interactive tables.';\n",
              "        element.innerHTML = '';\n",
              "        dataTable['output_type'] = 'display_data';\n",
              "        await google.colab.output.renderOutput(dataTable, element);\n",
              "        const docLink = document.createElement('div');\n",
              "        docLink.innerHTML = docLinkHtml;\n",
              "        element.appendChild(docLink);\n",
              "      }\n",
              "    </script>\n",
              "  </div>\n",
              "\n",
              "\n",
              "<div id=\"df-f4c8a58f-e925-4b8f-87b4-f1e6b2183cdd\">\n",
              "  <button class=\"colab-df-quickchart\" onclick=\"quickchart('df-f4c8a58f-e925-4b8f-87b4-f1e6b2183cdd')\"\n",
              "            title=\"Suggest charts\"\n",
              "            style=\"display:none;\">\n",
              "\n",
              "<svg xmlns=\"http://www.w3.org/2000/svg\" height=\"24px\"viewBox=\"0 0 24 24\"\n",
              "     width=\"24px\">\n",
              "    <g>\n",
              "        <path d=\"M19 3H5c-1.1 0-2 .9-2 2v14c0 1.1.9 2 2 2h14c1.1 0 2-.9 2-2V5c0-1.1-.9-2-2-2zM9 17H7v-7h2v7zm4 0h-2V7h2v10zm4 0h-2v-4h2v4z\"/>\n",
              "    </g>\n",
              "</svg>\n",
              "  </button>\n",
              "\n",
              "<style>\n",
              "  .colab-df-quickchart {\n",
              "      --bg-color: #E8F0FE;\n",
              "      --fill-color: #1967D2;\n",
              "      --hover-bg-color: #E2EBFA;\n",
              "      --hover-fill-color: #174EA6;\n",
              "      --disabled-fill-color: #AAA;\n",
              "      --disabled-bg-color: #DDD;\n",
              "  }\n",
              "\n",
              "  [theme=dark] .colab-df-quickchart {\n",
              "      --bg-color: #3B4455;\n",
              "      --fill-color: #D2E3FC;\n",
              "      --hover-bg-color: #434B5C;\n",
              "      --hover-fill-color: #FFFFFF;\n",
              "      --disabled-bg-color: #3B4455;\n",
              "      --disabled-fill-color: #666;\n",
              "  }\n",
              "\n",
              "  .colab-df-quickchart {\n",
              "    background-color: var(--bg-color);\n",
              "    border: none;\n",
              "    border-radius: 50%;\n",
              "    cursor: pointer;\n",
              "    display: none;\n",
              "    fill: var(--fill-color);\n",
              "    height: 32px;\n",
              "    padding: 0;\n",
              "    width: 32px;\n",
              "  }\n",
              "\n",
              "  .colab-df-quickchart:hover {\n",
              "    background-color: var(--hover-bg-color);\n",
              "    box-shadow: 0 1px 2px rgba(60, 64, 67, 0.3), 0 1px 3px 1px rgba(60, 64, 67, 0.15);\n",
              "    fill: var(--button-hover-fill-color);\n",
              "  }\n",
              "\n",
              "  .colab-df-quickchart-complete:disabled,\n",
              "  .colab-df-quickchart-complete:disabled:hover {\n",
              "    background-color: var(--disabled-bg-color);\n",
              "    fill: var(--disabled-fill-color);\n",
              "    box-shadow: none;\n",
              "  }\n",
              "\n",
              "  .colab-df-spinner {\n",
              "    border: 2px solid var(--fill-color);\n",
              "    border-color: transparent;\n",
              "    border-bottom-color: var(--fill-color);\n",
              "    animation:\n",
              "      spin 1s steps(1) infinite;\n",
              "  }\n",
              "\n",
              "  @keyframes spin {\n",
              "    0% {\n",
              "      border-color: transparent;\n",
              "      border-bottom-color: var(--fill-color);\n",
              "      border-left-color: var(--fill-color);\n",
              "    }\n",
              "    20% {\n",
              "      border-color: transparent;\n",
              "      border-left-color: var(--fill-color);\n",
              "      border-top-color: var(--fill-color);\n",
              "    }\n",
              "    30% {\n",
              "      border-color: transparent;\n",
              "      border-left-color: var(--fill-color);\n",
              "      border-top-color: var(--fill-color);\n",
              "      border-right-color: var(--fill-color);\n",
              "    }\n",
              "    40% {\n",
              "      border-color: transparent;\n",
              "      border-right-color: var(--fill-color);\n",
              "      border-top-color: var(--fill-color);\n",
              "    }\n",
              "    60% {\n",
              "      border-color: transparent;\n",
              "      border-right-color: var(--fill-color);\n",
              "    }\n",
              "    80% {\n",
              "      border-color: transparent;\n",
              "      border-right-color: var(--fill-color);\n",
              "      border-bottom-color: var(--fill-color);\n",
              "    }\n",
              "    90% {\n",
              "      border-color: transparent;\n",
              "      border-bottom-color: var(--fill-color);\n",
              "    }\n",
              "  }\n",
              "</style>\n",
              "\n",
              "  <script>\n",
              "    async function quickchart(key) {\n",
              "      const quickchartButtonEl =\n",
              "        document.querySelector('#' + key + ' button');\n",
              "      quickchartButtonEl.disabled = true;  // To prevent multiple clicks.\n",
              "      quickchartButtonEl.classList.add('colab-df-spinner');\n",
              "      try {\n",
              "        const charts = await google.colab.kernel.invokeFunction(\n",
              "            'suggestCharts', [key], {});\n",
              "      } catch (error) {\n",
              "        console.error('Error during call to suggestCharts:', error);\n",
              "      }\n",
              "      quickchartButtonEl.classList.remove('colab-df-spinner');\n",
              "      quickchartButtonEl.classList.add('colab-df-quickchart-complete');\n",
              "    }\n",
              "    (() => {\n",
              "      let quickchartButtonEl =\n",
              "        document.querySelector('#df-f4c8a58f-e925-4b8f-87b4-f1e6b2183cdd button');\n",
              "      quickchartButtonEl.style.display =\n",
              "        google.colab.kernel.accessAllowed ? 'block' : 'none';\n",
              "    })();\n",
              "  </script>\n",
              "</div>\n",
              "\n",
              "  <div id=\"id_ffc80737-05cb-45c0-a9d0-26039d36a5c6\">\n",
              "    <style>\n",
              "      .colab-df-generate {\n",
              "        background-color: #E8F0FE;\n",
              "        border: none;\n",
              "        border-radius: 50%;\n",
              "        cursor: pointer;\n",
              "        display: none;\n",
              "        fill: #1967D2;\n",
              "        height: 32px;\n",
              "        padding: 0 0 0 0;\n",
              "        width: 32px;\n",
              "      }\n",
              "\n",
              "      .colab-df-generate:hover {\n",
              "        background-color: #E2EBFA;\n",
              "        box-shadow: 0px 1px 2px rgba(60, 64, 67, 0.3), 0px 1px 3px 1px rgba(60, 64, 67, 0.15);\n",
              "        fill: #174EA6;\n",
              "      }\n",
              "\n",
              "      [theme=dark] .colab-df-generate {\n",
              "        background-color: #3B4455;\n",
              "        fill: #D2E3FC;\n",
              "      }\n",
              "\n",
              "      [theme=dark] .colab-df-generate:hover {\n",
              "        background-color: #434B5C;\n",
              "        box-shadow: 0px 1px 3px 1px rgba(0, 0, 0, 0.15);\n",
              "        filter: drop-shadow(0px 1px 2px rgba(0, 0, 0, 0.3));\n",
              "        fill: #FFFFFF;\n",
              "      }\n",
              "    </style>\n",
              "    <button class=\"colab-df-generate\" onclick=\"generateWithVariable('node2paper')\"\n",
              "            title=\"Generate code using this dataframe.\"\n",
              "            style=\"display:none;\">\n",
              "\n",
              "  <svg xmlns=\"http://www.w3.org/2000/svg\" height=\"24px\"viewBox=\"0 0 24 24\"\n",
              "       width=\"24px\">\n",
              "    <path d=\"M7,19H8.4L18.45,9,17,7.55,7,17.6ZM5,21V16.75L18.45,3.32a2,2,0,0,1,2.83,0l1.4,1.43a1.91,1.91,0,0,1,.58,1.4,1.91,1.91,0,0,1-.58,1.4L9.25,21ZM18.45,9,17,7.55Zm-12,3A5.31,5.31,0,0,0,4.9,8.1,5.31,5.31,0,0,0,1,6.5,5.31,5.31,0,0,0,4.9,4.9,5.31,5.31,0,0,0,6.5,1,5.31,5.31,0,0,0,8.1,4.9,5.31,5.31,0,0,0,12,6.5,5.46,5.46,0,0,0,6.5,12Z\"/>\n",
              "  </svg>\n",
              "    </button>\n",
              "    <script>\n",
              "      (() => {\n",
              "      const buttonEl =\n",
              "        document.querySelector('#id_ffc80737-05cb-45c0-a9d0-26039d36a5c6 button.colab-df-generate');\n",
              "      buttonEl.style.display =\n",
              "        google.colab.kernel.accessAllowed ? 'block' : 'none';\n",
              "\n",
              "      buttonEl.onclick = () => {\n",
              "        google.colab.notebook.generateWithVariable('node2paper');\n",
              "      }\n",
              "      })();\n",
              "    </script>\n",
              "  </div>\n",
              "\n",
              "    </div>\n",
              "  </div>\n"
            ],
            "application/vnd.google.colaboratory.intrinsic+json": {
              "type": "dataframe",
              "variable_name": "node2paper"
            }
          },
          "metadata": {},
          "execution_count": 35
        }
      ]
    },
    {
      "cell_type": "markdown",
      "source": [
        "Let's look at paper 0 as our test paper. As before, we a tensor of all possible edges from this node, then have our model score their likelihoods, and then sort by the scores to find the model's predictions."
      ],
      "metadata": {
        "id": "dtAKkUXbaVGf"
      },
      "id": "dtAKkUXbaVGf"
    },
    {
      "cell_type": "code",
      "source": [
        "title_abs.loc[node2paper.loc[0]][1].item()"
      ],
      "metadata": {
        "colab": {
          "base_uri": "https://localhost:8080/",
          "height": 36
        },
        "id": "KQKLWt828fWI",
        "outputId": "b1abfdd8-bbe6-40d0-a1f0-de97794f308f"
      },
      "id": "KQKLWt828fWI",
      "execution_count": 36,
      "outputs": [
        {
          "output_type": "execute_result",
          "data": {
            "text/plain": [
              "'evasion attacks against machine learning at test time'"
            ],
            "application/vnd.google.colaboratory.intrinsic+json": {
              "type": "string"
            }
          },
          "metadata": {},
          "execution_count": 36
        }
      ]
    },
    {
      "cell_type": "code",
      "source": [
        "qtarg = np.full(169342, 0)\n",
        "#qother = np.hstack((np.arange(3), np.arange(4, 169343)))\n",
        "qother = np.arange(1, 169343)\n",
        "q_test_edge = np.vstack((qtarg, qother))\n",
        "q_test_edge = torch.Tensor(q_test_edge).to(torch.int64)\n",
        "q_test_edge"
      ],
      "metadata": {
        "colab": {
          "base_uri": "https://localhost:8080/"
        },
        "id": "ug_EgLZ47rP0",
        "outputId": "1a1e47e5-98c6-47f1-bb5b-fc7f6147b538"
      },
      "id": "ug_EgLZ47rP0",
      "execution_count": 37,
      "outputs": [
        {
          "output_type": "execute_result",
          "data": {
            "text/plain": [
              "tensor([[     0,      0,      0,  ...,      0,      0,      0],\n",
              "        [     1,      2,      3,  ..., 169340, 169341, 169342]])"
            ]
          },
          "metadata": {},
          "execution_count": 37
        }
      ]
    },
    {
      "cell_type": "code",
      "source": [
        "with torch.no_grad():\n",
        "  model.eval()\n",
        "  qz = model.encode(test_data.x, test_data.edge_index)\n",
        "  qout = model.decode(qz, q_test_edge).view(-1).sigmoid()\n"
      ],
      "metadata": {
        "id": "x-I917hw88LF"
      },
      "id": "x-I917hw88LF",
      "execution_count": 38,
      "outputs": []
    },
    {
      "cell_type": "code",
      "source": [
        "qsorted = np.argsort(-qout.cpu().numpy())\n",
        "qsorted[:10]"
      ],
      "metadata": {
        "colab": {
          "base_uri": "https://localhost:8080/"
        },
        "id": "7fIzETQz9U7_",
        "outputId": "8fc91337-8782-4c0d-8205-a2472a1823de"
      },
      "id": "7fIzETQz9U7_",
      "execution_count": 39,
      "outputs": [
        {
          "output_type": "execute_result",
          "data": {
            "text/plain": [
              "array([ 67165, 115358, 166424, 154341, 106698, 133375, 141152,  93648,\n",
              "       113094, 159655])"
            ]
          },
          "metadata": {},
          "execution_count": 39
        }
      ]
    },
    {
      "cell_type": "markdown",
      "source": [
        "This paper only has 2 citations in the network."
      ],
      "metadata": {
        "id": "dfWziJX1auF4"
      },
      "id": "dfWziJX1auF4"
    },
    {
      "cell_type": "code",
      "source": [
        "graph_arx.edge_index[:, graph_arx.edge_index[0] == 0]"
      ],
      "metadata": {
        "colab": {
          "base_uri": "https://localhost:8080/"
        },
        "id": "IMlWmLjN9uLq",
        "outputId": "dcf0154a-3e20-443a-cf67-52ca189e59af"
      },
      "id": "IMlWmLjN9uLq",
      "execution_count": 43,
      "outputs": [
        {
          "output_type": "execute_result",
          "data": {
            "text/plain": [
              "tensor([[    0,     0],\n",
              "        [93487, 52893]])"
            ]
          },
          "metadata": {},
          "execution_count": 43
        }
      ]
    },
    {
      "cell_type": "code",
      "source": [
        "for i in graph_arx.edge_index[:, graph_arx.edge_index[0] == 0][1].numpy():\n",
        "  print(title_abs.loc[node2paper.loc[i]][1].item())"
      ],
      "metadata": {
        "colab": {
          "base_uri": "https://localhost:8080/"
        },
        "id": "dSQYqm7LTxPk",
        "outputId": "3ca50440-621a-4ec8-bc58-08957a710414"
      },
      "id": "dSQYqm7LTxPk",
      "execution_count": 48,
      "outputs": [
        {
          "output_type": "stream",
          "name": "stdout",
          "text": [
            "poisoning attacks against support vector machines\n",
            "query strategies for evading convex inducing classifiers\n"
          ]
        }
      ]
    },
    {
      "cell_type": "markdown",
      "source": [
        "Since paper 0 only had 2 citations, let's instead use paper 2, which has 7 citations, and could get us more informative predictions."
      ],
      "metadata": {
        "id": "-1IyUOp_ax0M"
      },
      "id": "-1IyUOp_ax0M"
    },
    {
      "cell_type": "code",
      "source": [
        "graph.edge_index[:, graph.edge_index[0] == 2]"
      ],
      "metadata": {
        "colab": {
          "base_uri": "https://localhost:8080/"
        },
        "id": "zfBgdT3k-lav",
        "outputId": "ca61f433-c0c9-4eae-b782-d2e99e4854b7"
      },
      "id": "zfBgdT3k-lav",
      "execution_count": 49,
      "outputs": [
        {
          "output_type": "execute_result",
          "data": {
            "text/plain": [
              "tensor([[   2,    2,    2,    2,    2,    2,    2],\n",
              "        [1098,    1, 2167, 1076, 2558, 2423, 1882]])"
            ]
          },
          "metadata": {},
          "execution_count": 49
        }
      ]
    },
    {
      "cell_type": "markdown",
      "source": [
        "This paper seems to be about compressed sensing and MRI technology."
      ],
      "metadata": {
        "id": "Y_lWNyfAbB1D"
      },
      "id": "Y_lWNyfAbB1D"
    },
    {
      "cell_type": "code",
      "source": [
        "title_abs.loc[node2paper.loc[2]][1].item()"
      ],
      "metadata": {
        "colab": {
          "base_uri": "https://localhost:8080/",
          "height": 36
        },
        "id": "-jpA5yLr_bo0",
        "outputId": "0fbbad8e-9b85-47c8-c6fe-fa2d75f47cd6"
      },
      "id": "-jpA5yLr_bo0",
      "execution_count": 50,
      "outputs": [
        {
          "output_type": "execute_result",
          "data": {
            "text/plain": [
              "'on the absence of the rip in real world applications of compressed sensing and the rip in levels'"
            ],
            "application/vnd.google.colaboratory.intrinsic+json": {
              "type": "string"
            }
          },
          "metadata": {},
          "execution_count": 50
        }
      ]
    },
    {
      "cell_type": "code",
      "source": [
        "qtarg = np.full(169342, 2)\n",
        "qother = np.hstack((np.arange(2), np.arange(3, 169343)))\n",
        "q_test_edge = np.vstack((qtarg, qother))\n",
        "q_test_edge = torch.Tensor(q_test_edge).to(torch.int64)\n",
        "q_test_edge"
      ],
      "metadata": {
        "colab": {
          "base_uri": "https://localhost:8080/"
        },
        "id": "LfWmx7VG_AZ6",
        "outputId": "eb20c5b7-4192-4d7f-d313-668baefca8d4"
      },
      "id": "LfWmx7VG_AZ6",
      "execution_count": 51,
      "outputs": [
        {
          "output_type": "execute_result",
          "data": {
            "text/plain": [
              "tensor([[     2,      2,      2,  ...,      2,      2,      2],\n",
              "        [     0,      1,      3,  ..., 169340, 169341, 169342]])"
            ]
          },
          "metadata": {},
          "execution_count": 51
        }
      ]
    },
    {
      "cell_type": "code",
      "source": [
        "with torch.no_grad():\n",
        "  model.eval()\n",
        "  qz = model.encode(test_data.x, test_data.edge_index)\n",
        "  qout = model.decode(qz, q_test_edge).view(-1).sigmoid()\n"
      ],
      "metadata": {
        "id": "XnCKz4Vu_MGc"
      },
      "id": "XnCKz4Vu_MGc",
      "execution_count": 52,
      "outputs": []
    },
    {
      "cell_type": "code",
      "source": [
        "qsorted = np.argsort(-qout.cpu().numpy())\n",
        "qsorted"
      ],
      "metadata": {
        "colab": {
          "base_uri": "https://localhost:8080/"
        },
        "id": "IGAm_Kv4_OUZ",
        "outputId": "2b087854-3168-4b11-83f2-437a222a8ee7"
      },
      "id": "IGAm_Kv4_OUZ",
      "execution_count": 53,
      "outputs": [
        {
          "output_type": "execute_result",
          "data": {
            "text/plain": [
              "array([158459, 146547, 116653, ..., 154341, 115358, 106698])"
            ]
          },
          "metadata": {},
          "execution_count": 53
        }
      ]
    },
    {
      "cell_type": "code",
      "source": [
        "qsorted[:10]"
      ],
      "metadata": {
        "colab": {
          "base_uri": "https://localhost:8080/"
        },
        "id": "bYX6f4Ju_QID",
        "outputId": "2b3498a3-eb01-4705-fcb9-6090c4a2d99e"
      },
      "id": "bYX6f4Ju_QID",
      "execution_count": 54,
      "outputs": [
        {
          "output_type": "execute_result",
          "data": {
            "text/plain": [
              "array([158459, 146547, 116653, 128457, 119217, 153676, 123812, 134265,\n",
              "       107457, 103350])"
            ]
          },
          "metadata": {},
          "execution_count": 54
        }
      ]
    },
    {
      "cell_type": "markdown",
      "source": [
        "Here are what the model recommends as prior readings. We have deep learning, distributed systems, cybersecurity, etc., but nothing on compressed sensing."
      ],
      "metadata": {
        "id": "Yb4XhddWbIMC"
      },
      "id": "Yb4XhddWbIMC"
    },
    {
      "cell_type": "code",
      "source": [
        "for i in qsorted[:10]:\n",
        "  print(title_abs.loc[node2paper.loc[i]][1].item())"
      ],
      "metadata": {
        "colab": {
          "base_uri": "https://localhost:8080/"
        },
        "id": "VUF2P09j_r8s",
        "outputId": "40487150-4386-4197-f5e5-78672b2f5d79"
      },
      "id": "VUF2P09j_r8s",
      "execution_count": 55,
      "outputs": [
        {
          "output_type": "stream",
          "name": "stdout",
          "text": [
            "light field saliency detection with deep convolutional networks\n",
            "ht paxos high throughput state machine replication protocol for large clustered data centers\n",
            "graphical potential games\n",
            "automated verification of role based access control policies constraints using prover9\n",
            "learning a recurrent visual representation for image caption generation\n",
            "cornerstones of sampling of operator theory\n",
            "a correct precise and efficient integration of set sharing freeness and linearity for the analysis of finite and rational tree languages\n",
            "predicting learning status in moocs using lstm\n",
            "visuohaptic augmented feedback for enhancing motor skills acquisition\n",
            "a model of plant identification system using glcm lacunarity and shen features\n"
          ]
        }
      ]
    },
    {
      "cell_type": "markdown",
      "source": [
        "Here are papers that are actually cited by paper 2 (our test paper). As expected, there are multiple papers involving compressed sensing."
      ],
      "metadata": {
        "id": "C72C7pGobL8j"
      },
      "id": "C72C7pGobL8j"
    },
    {
      "cell_type": "code",
      "source": [
        "for i in graph_arx.edge_index[:, graph_arx.edge_index[0] == 2][1].numpy():\n",
        "  print(title_abs.loc[node2paper.loc[i]][1].item())"
      ],
      "metadata": {
        "colab": {
          "base_uri": "https://localhost:8080/"
        },
        "id": "awgfiHjt_zGs",
        "outputId": "caa707e5-e451-4936-992f-99e5b06bf782"
      },
      "id": "awgfiHjt_zGs",
      "execution_count": 57,
      "outputs": [
        {
          "output_type": "stream",
          "name": "stdout",
          "text": [
            "stable and robust sampling strategies for compressive imaging\n",
            "communications inspired projection design with application to compressive sensing\n",
            "model based compressive sensing\n",
            "on variable density compressive sampling\n",
            "fundamental performance limits for ideal decoders in high dimensional linear inverse problems\n",
            "sharp rip bound for sparse signal and low rank matrix recovery\n",
            "on the theorem of uniform recovery of random sampling matrices\n",
            "new bounds for restricted isometry constants\n",
            "an analysis of block sampling strategies in compressed sensing\n"
          ]
        }
      ]
    },
    {
      "cell_type": "markdown",
      "source": [
        "Let's look for the seminal paper, \"Attention is all you need.\""
      ],
      "metadata": {
        "id": "SRqei2wabo9I"
      },
      "id": "SRqei2wabo9I"
    },
    {
      "cell_type": "code",
      "source": [
        "title_abs[1][title_abs[1].str.contains('attention is')]"
      ],
      "metadata": {
        "colab": {
          "base_uri": "https://localhost:8080/"
        },
        "id": "HH5Yw4DPBbY9",
        "outputId": "0051cc73-955d-4577-d733-7bef7d3012c1"
      },
      "id": "HH5Yw4DPBbY9",
      "execution_count": 58,
      "outputs": [
        {
          "output_type": "execute_result",
          "data": {
            "text/plain": [
              "0\n",
              "2626778328                            attention is all you need\n",
              "2946949951    attention is not all you need for commonsense ...\n",
              "2948359136    attention is all you need for videos self atte...\n",
              "2949170850    attention is all we need nailing down object c...\n",
              "2951025380                         attention is not explanation\n",
              "2968210605                     attention is not not explanation\n",
              "2982652483    attention is all you need for chinese word seg...\n",
              "2990220434    not all attention is needed gated attention ne...\n",
              "3000577518    graph bert only attention is needed for learni...\n",
              "3008579633    the perceptual boost of visual attention is ta...\n",
              "Name: 1, dtype: object"
            ]
          },
          "metadata": {},
          "execution_count": 58
        }
      ]
    },
    {
      "cell_type": "code",
      "source": [
        "node2paper['paper id'][node2paper['paper id'] == 2626778328]"
      ],
      "metadata": {
        "colab": {
          "base_uri": "https://localhost:8080/"
        },
        "id": "mBDavh1lNRSg",
        "outputId": "4cfb15ad-91c3-4b68-e79c-1af79fa118b0"
      },
      "id": "mBDavh1lNRSg",
      "execution_count": 59,
      "outputs": [
        {
          "output_type": "execute_result",
          "data": {
            "text/plain": [
              "node idx\n",
              "41480    2626778328\n",
              "Name: paper id, dtype: int64"
            ]
          },
          "metadata": {},
          "execution_count": 59
        }
      ]
    },
    {
      "cell_type": "code",
      "source": [
        "graph_arx.edge_index[:, graph_arx.edge_index[1] == 41480].shape"
      ],
      "metadata": {
        "colab": {
          "base_uri": "https://localhost:8080/"
        },
        "id": "Ba_pSWR7NqvY",
        "outputId": "796b60c5-0a3c-46f6-cb4e-14f6f46ab420"
      },
      "id": "Ba_pSWR7NqvY",
      "execution_count": 62,
      "outputs": [
        {
          "output_type": "execute_result",
          "data": {
            "text/plain": [
              "torch.Size([2, 3382])"
            ]
          },
          "metadata": {},
          "execution_count": 62
        }
      ]
    },
    {
      "cell_type": "code",
      "source": [
        "graph_arx.edge_index[:, graph_arx.edge_index[0] == 41480].shape"
      ],
      "metadata": {
        "colab": {
          "base_uri": "https://localhost:8080/"
        },
        "id": "8sieAqr_U8hO",
        "outputId": "22f2b86a-8292-46e0-d9b5-6451f75a3052"
      },
      "id": "8sieAqr_U8hO",
      "execution_count": 63,
      "outputs": [
        {
          "output_type": "execute_result",
          "data": {
            "text/plain": [
              "torch.Size([2, 23])"
            ]
          },
          "metadata": {},
          "execution_count": 63
        }
      ]
    },
    {
      "cell_type": "markdown",
      "source": [
        "This paper is cited by `3382` other papers in this dataset, and cites `23` other papers in this dataset. Let's run inference on it."
      ],
      "metadata": {
        "id": "bwsePcpybzfu"
      },
      "id": "bwsePcpybzfu"
    },
    {
      "cell_type": "code",
      "source": [
        "qtarg = np.full(169342, 41480)\n",
        "qother = np.hstack((np.arange(41480), np.arange(41481, 169343)))\n",
        "q_test_edge = np.vstack((qtarg, qother))\n",
        "q_test_edge = torch.Tensor(q_test_edge).to(torch.int64)\n",
        "q_test_edge"
      ],
      "metadata": {
        "colab": {
          "base_uri": "https://localhost:8080/"
        },
        "id": "PK8dGC6xVamx",
        "outputId": "71f006ba-46cd-461b-8707-4b49ce6d6ee1"
      },
      "id": "PK8dGC6xVamx",
      "execution_count": 64,
      "outputs": [
        {
          "output_type": "execute_result",
          "data": {
            "text/plain": [
              "tensor([[ 41480,  41480,  41480,  ...,  41480,  41480,  41480],\n",
              "        [     0,      1,      2,  ..., 169340, 169341, 169342]])"
            ]
          },
          "metadata": {},
          "execution_count": 64
        }
      ]
    },
    {
      "cell_type": "code",
      "source": [
        "with torch.no_grad():\n",
        "  model.eval()\n",
        "  qz = model.encode(test_data.x, test_data.edge_index)\n",
        "  qout = model.decode(qz, q_test_edge).view(-1).sigmoid()\n"
      ],
      "metadata": {
        "id": "mPAYNU4nVM4B"
      },
      "id": "mPAYNU4nVM4B",
      "execution_count": 65,
      "outputs": []
    },
    {
      "cell_type": "code",
      "source": [
        "qsorted = np.argsort(-qout.cpu().numpy())\n",
        "qsorted[:10]"
      ],
      "metadata": {
        "colab": {
          "base_uri": "https://localhost:8080/"
        },
        "id": "8r29EMe4VScZ",
        "outputId": "9c885a86-c1fe-4bbb-f4fa-ba6e7d6b5449"
      },
      "id": "8r29EMe4VScZ",
      "execution_count": 66,
      "outputs": [
        {
          "output_type": "execute_result",
          "data": {
            "text/plain": [
              "array([131447, 143148,  88806, 158057, 162472,  94873, 145466,  56217,\n",
              "       167569, 168344])"
            ]
          },
          "metadata": {},
          "execution_count": 66
        }
      ]
    },
    {
      "cell_type": "markdown",
      "source": [
        "Here are the predictions. Sentiment analysis makes sense, along with some other deep learning topics, but nothing on attention or anything more fundamental."
      ],
      "metadata": {
        "id": "18-c2f8Yb9D5"
      },
      "id": "18-c2f8Yb9D5"
    },
    {
      "cell_type": "code",
      "source": [
        "for i in qsorted[:10]:\n",
        "  print(title_abs.loc[node2paper.loc[i]][1].item())"
      ],
      "metadata": {
        "colab": {
          "base_uri": "https://localhost:8080/"
        },
        "id": "NqLTEK4SVTUN",
        "outputId": "e7d59cfc-baa6-42e9-ebe2-81b4d75dda5b"
      },
      "id": "NqLTEK4SVTUN",
      "execution_count": 67,
      "outputs": [
        {
          "output_type": "stream",
          "name": "stdout",
          "text": [
            "sentiment analysis of financial news articles using performance indicators\n",
            "deep multimodal embedding manipulating novel objects with point clouds language and trajectories\n",
            "bounds on the second order coding rate of the mimo rayleigh block fading channel\n",
            "multiagent soft q learning\n",
            "data interpolating prediction alternative interpretation of mixup\n",
            "pseudorandom generators for polynomial threshold functions\n",
            "interpretable few shot learning via linear distillation\n",
            "hierarchical subtask discovery with non negative matrix factorization\n",
            "unmanaged internet protocol taming the edge network management crisis\n",
            "towards service oriented 5g virtualizing the networks for everything as a service\n"
          ]
        }
      ]
    },
    {
      "cell_type": "markdown",
      "source": [
        "### Modified Loss Function\n",
        "\n",
        "Here we test out training our model using a modified loss function that penalizes the model for predicting links to papers that are too dissimilar in content to the test paper."
      ],
      "metadata": {
        "id": "jtPLX6VocHMW"
      },
      "id": "jtPLX6VocHMW"
    },
    {
      "cell_type": "code",
      "source": [
        "def train_with_combined_loss(model, train_data, val_data, optimizer, criterion, n_epochs=100):\n",
        "\n",
        "  train_error = np.zeros(n_epochs)\n",
        "  val_error = np.zeros(n_epochs)\n",
        "\n",
        "  for epoch in range(1, n_epochs+1):\n",
        "    model.train()\n",
        "    optimizer.zero_grad()\n",
        "\n",
        "    z = model.encode(train_data.x, train_data.edge_index)\n",
        "\n",
        "    neg_edge_index = negative_sampling(\n",
        "            edge_index=train_data.edge_index, num_nodes=train_data.num_nodes,\n",
        "            num_neg_samples=train_data.edge_label_index.size(1), method='sparse')\n",
        "\n",
        "    edge_label_index = torch.cat(\n",
        "        [train_data.edge_label_index, neg_edge_index],\n",
        "        dim=-1,\n",
        "    )\n",
        "\n",
        "    edge_label = torch.cat([\n",
        "        train_data.edge_label,\n",
        "        train_data.edge_label.new_zeros(neg_edge_index.size(1))\n",
        "    ], dim=0)\n",
        "\n",
        "    out = model.decode(z, edge_label_index).view(-1)\n",
        "    loss = criterion(out, edge_label, train_data.x, edge_label_index)\n",
        "    loss.backward()\n",
        "    optimizer.step()\n",
        "\n",
        "    train_error[epoch-1] = loss.item()\n",
        "\n",
        "    val_error[epoch-1] = evaluate_with_combined_loss(model, val_data, criterion)\n",
        "\n",
        "    if epoch % 10 == 0:\n",
        "      print(f\"Epoch: {epoch:03d}, Train Loss: {loss:.3f}, Val Loss: {val_error[epoch-1]:.3f}\")\n",
        "\n",
        "  return model, train_error, val_error\n",
        "\n",
        "@torch.no_grad()\n",
        "def evaluate_with_combined_loss(model, data, criterion):\n",
        "  model.eval()\n",
        "  z = model.encode(data.x, data.edge_index)\n",
        "  out = model.decode(z, data.edge_label_index).view(-1).sigmoid()\n",
        "\n",
        "  return criterion(out, data.edge_label, data.x, data.edge_label_index).item()\n"
      ],
      "metadata": {
        "id": "PHknr8smawu2"
      },
      "id": "PHknr8smawu2",
      "execution_count": 80,
      "outputs": []
    },
    {
      "cell_type": "code",
      "source": [
        "EPOCHS = 100\n",
        "\n",
        "model = Net(graph_arx.num_features, 128, 64).to('cpu')\n",
        "optimizer = torch.optim.Adam(params=model.parameters(), lr=0.001)\n",
        "\n",
        "bce = torch.nn.BCEWithLogitsLoss()\n",
        "cosine_similarity = torch.nn.CosineSimilarity(dim=1)\n",
        "def combined_loss_func(outputs, edge_label, x, edge_label_index):\n",
        "  bce_loss = bce(outputs, edge_label)\n",
        "  cosine_loss = -cosine_similarity(x[edge_label_index[0]], x[edge_label_index[1]]).mean()\n",
        "  return .5 * bce_loss + .5 * cosine_loss\n",
        "\n",
        "\n",
        "criterion = combined_loss_func\n",
        "model, train_errs, val_errs  = train_with_combined_loss(model, train_data, val_data, optimizer, criterion, n_epochs=EPOCHS)\n",
        "\n",
        "test_auc = evaluate_with_combined_loss(model, test_data, criterion)\n",
        "print(f\"Test: {test_auc:.3f}\")"
      ],
      "metadata": {
        "colab": {
          "base_uri": "https://localhost:8080/"
        },
        "id": "LBzi4878VXPx",
        "outputId": "06c98e78-0f70-4822-cd3a-c3f297d052cf"
      },
      "id": "LBzi4878VXPx",
      "execution_count": 83,
      "outputs": [
        {
          "output_type": "stream",
          "name": "stdout",
          "text": [
            "Epoch: 010, Train Loss: -0.094, Val Loss: -0.042\n",
            "Epoch: 020, Train Loss: -0.100, Val Loss: -0.045\n",
            "Epoch: 030, Train Loss: -0.111, Val Loss: -0.048\n",
            "Epoch: 040, Train Loss: -0.126, Val Loss: -0.053\n",
            "Epoch: 050, Train Loss: -0.145, Val Loss: -0.058\n",
            "Epoch: 060, Train Loss: -0.158, Val Loss: -0.063\n",
            "Epoch: 070, Train Loss: -0.161, Val Loss: -0.065\n",
            "Epoch: 080, Train Loss: -0.165, Val Loss: -0.065\n",
            "Epoch: 090, Train Loss: -0.167, Val Loss: -0.066\n",
            "Epoch: 100, Train Loss: -0.168, Val Loss: -0.066\n",
            "Test: -0.067\n"
          ]
        }
      ]
    },
    {
      "cell_type": "markdown",
      "source": [
        "We visualize the loss here as ROC-AUC doesn't make much sense here anymore since we aren't training purely based on the presence of a citation anymore."
      ],
      "metadata": {
        "id": "hUvjkvACcXt5"
      },
      "id": "hUvjkvACcXt5"
    },
    {
      "cell_type": "code",
      "source": [
        "fig, ax = plt.subplots()\n",
        "ax.plot(train_errs,'r-',label='train')\n",
        "ax.plot(val_errs,'b-',label='validation')\n",
        "ax.set_xlim(0,EPOCHS-1)\n",
        "ax.set_xlabel('Epoch'); ax.set_ylabel('Error')\n",
        "ax.set_title('ogbn-arxiv with Combined Loss Function Validation Result %3.2f'%(val_errs[-1]))\n",
        "ax.legend()\n",
        "plt.show()"
      ],
      "metadata": {
        "colab": {
          "base_uri": "https://localhost:8080/",
          "height": 472
        },
        "id": "1zuG7xWZWjKt",
        "outputId": "f19bf153-7b3c-4e49-f4a2-5cf013cdba99"
      },
      "id": "1zuG7xWZWjKt",
      "execution_count": 84,
      "outputs": [
        {
          "output_type": "display_data",
          "data": {
            "text/plain": [
              "<Figure size 640x480 with 1 Axes>"
            ],
            "image/png": "[encoded data removed]"
          },
          "metadata": {}
        }
      ]
    },
    {
      "cell_type": "code",
      "source": [
        "qtarg = np.full(169342, 41480)\n",
        "qother = np.hstack((np.arange(41480), np.arange(41481, 169343)))\n",
        "q_test_edge = np.vstack((qtarg, qother))\n",
        "q_test_edge = torch.Tensor(q_test_edge).to(torch.int64)\n",
        "q_test_edge"
      ],
      "metadata": {
        "colab": {
          "base_uri": "https://localhost:8080/"
        },
        "id": "oUEDhWNyoCk7",
        "outputId": "4878f6c6-baa2-4b37-f61d-2dc63e0e9e72"
      },
      "id": "oUEDhWNyoCk7",
      "execution_count": 85,
      "outputs": [
        {
          "output_type": "execute_result",
          "data": {
            "text/plain": [
              "tensor([[ 41480,  41480,  41480,  ...,  41480,  41480,  41480],\n",
              "        [     0,      1,      2,  ..., 169340, 169341, 169342]])"
            ]
          },
          "metadata": {},
          "execution_count": 85
        }
      ]
    },
    {
      "cell_type": "code",
      "source": [
        "with torch.no_grad():\n",
        "  model.eval()\n",
        "  qz = model.encode(test_data.x, test_data.edge_index)\n",
        "  qout = model.decode(qz, q_test_edge).view(-1).sigmoid()\n"
      ],
      "metadata": {
        "id": "Mrxnaw3moNOD"
      },
      "id": "Mrxnaw3moNOD",
      "execution_count": 86,
      "outputs": []
    },
    {
      "cell_type": "code",
      "source": [
        "qsorted = np.argsort(-qout.cpu().numpy())\n",
        "qsorted[:10]"
      ],
      "metadata": {
        "colab": {
          "base_uri": "https://localhost:8080/"
        },
        "id": "ZtTDLmvwoNZ2",
        "outputId": "b7a8efa9-e61f-441a-a2fb-c8a03a99eb3c"
      },
      "id": "ZtTDLmvwoNZ2",
      "execution_count": 87,
      "outputs": [
        {
          "output_type": "execute_result",
          "data": {
            "text/plain": [
              "array([ 88802,  99586,  77714, 135490, 119986, 125196,  43375, 119963,\n",
              "        77682,  99825])"
            ]
          },
          "metadata": {},
          "execution_count": 87
        }
      ]
    },
    {
      "cell_type": "markdown",
      "source": [
        "Here are the predictions from training with our balanced loss function. We actually have a paper here that uses the attention mechanism (3rd to last)."
      ],
      "metadata": {
        "id": "GgTcEbJRcjnK"
      },
      "id": "GgTcEbJRcjnK"
    },
    {
      "cell_type": "code",
      "source": [
        "for i in qsorted[:10]:\n",
        "  print(title_abs.loc[node2paper.loc[i]][1].item())"
      ],
      "metadata": {
        "colab": {
          "base_uri": "https://localhost:8080/"
        },
        "id": "izWFCEfYoT9y",
        "outputId": "54da6fef-ebe7-44d9-9541-0f43f829643b"
      },
      "id": "izWFCEfYoT9y",
      "execution_count": 88,
      "outputs": [
        {
          "output_type": "stream",
          "name": "stdout",
          "text": [
            "robust mimo harvest and jam helpers and relaying for secret communications\n",
            "software defined networking based crypto ransomware detection using http traffic characteristics\n",
            "limitations of algebraic approaches to graph isomorphism testing\n",
            "deep speech denoising with vector space projections\n",
            "analyzing the persistence of referenced web resources with memento\n",
            "scaling binarized neural networks on reconfigurable logic\n",
            "a cost speed reliability trade off to erasing\n",
            "where and when to look deep siamese attention networks for video based person re identification\n",
            "sar learning cross language api mappings with little knowledge\n",
            "affinitynet semi supervised few shot learning for disease type prediction\n"
          ]
        }
      ]
    },
    {
      "cell_type": "markdown",
      "source": [
        "**This time, we'll try training with a loss function that heavily penalizes dissimilar predictions.**"
      ],
      "metadata": {
        "id": "IEv3yAMFcv1D"
      },
      "id": "IEv3yAMFcv1D"
    },
    {
      "cell_type": "code",
      "source": [
        "EPOCHS = 100\n",
        "\n",
        "model = Net(graph_arx.num_features, 128, 64).to('cpu')\n",
        "optimizer = torch.optim.Adam(params=model.parameters(), lr=0.001)\n",
        "\n",
        "bce = torch.nn.BCEWithLogitsLoss()\n",
        "cosine_similarity = torch.nn.CosineSimilarity(dim=1)\n",
        "def combined_loss_func(outputs, edge_label, x, edge_label_index):\n",
        "  bce_loss = bce(outputs, edge_label)\n",
        "  cosine_loss = -cosine_similarity(x[edge_label_index[0]], x[edge_label_index[1]]).mean()\n",
        "  return .1 * bce_loss + .9 * cosine_loss\n",
        "\n",
        "\n",
        "criterion = combined_loss_func\n",
        "model, train_errs, val_errs  = train_with_combined_loss(model, train_data, val_data, optimizer, criterion, n_epochs=EPOCHS)\n",
        "\n",
        "test_loss = evaluate_with_combined_loss(model, test_data, criterion)\n",
        "print(f\"Test: {test_loss:.3f}\")"
      ],
      "metadata": {
        "colab": {
          "base_uri": "https://localhost:8080/"
        },
        "id": "UWmuA_sVeMcB",
        "outputId": "0c4a803d-94e5-42a8-bef3-7cb577d43810"
      },
      "id": "UWmuA_sVeMcB",
      "execution_count": 90,
      "outputs": [
        {
          "output_type": "stream",
          "name": "stdout",
          "text": [
            "Epoch: 010, Train Loss: -0.659, Val Loss: -0.649\n",
            "Epoch: 020, Train Loss: -0.662, Val Loss: -0.650\n",
            "Epoch: 030, Train Loss: -0.665, Val Loss: -0.651\n",
            "Epoch: 040, Train Loss: -0.669, Val Loss: -0.652\n",
            "Epoch: 050, Train Loss: -0.671, Val Loss: -0.653\n",
            "Epoch: 060, Train Loss: -0.672, Val Loss: -0.653\n",
            "Epoch: 070, Train Loss: -0.673, Val Loss: -0.653\n",
            "Epoch: 080, Train Loss: -0.674, Val Loss: -0.653\n",
            "Epoch: 090, Train Loss: -0.674, Val Loss: -0.654\n",
            "Epoch: 100, Train Loss: -0.674, Val Loss: -0.654\n",
            "Test: -0.654\n"
          ]
        }
      ]
    },
    {
      "cell_type": "code",
      "source": [
        "fig, ax = plt.subplots()\n",
        "ax.plot(train_errs,'r-',label='train')\n",
        "ax.plot(val_errs,'b-',label='validation')\n",
        "ax.set_xlim(0,EPOCHS-1)\n",
        "ax.set_xlabel('Epoch'); ax.set_ylabel('Error')\n",
        "ax.set_title('ogbn-arxiv with Similarity-heavy Loss Function Validation Result %3.2f'%(val_errs[-1]))\n",
        "ax.legend()\n",
        "plt.show()"
      ],
      "metadata": {
        "colab": {
          "base_uri": "https://localhost:8080/",
          "height": 472
        },
        "id": "4JvojE-noxLR",
        "outputId": "159dd270-ed30-4f09-bd3e-6e2d211a8d5b"
      },
      "id": "4JvojE-noxLR",
      "execution_count": 91,
      "outputs": [
        {
          "output_type": "display_data",
          "data": {
            "text/plain": [
              "<Figure size 640x480 with 1 Axes>"
            ],
            "image/png": "[encoded data removed]"
          },
          "metadata": {}
        }
      ]
    },
    {
      "cell_type": "code",
      "source": [
        "qtarg = np.full(169342, 41480)\n",
        "qother = np.hstack((np.arange(41480), np.arange(41481, 169343)))\n",
        "q_test_edge = np.vstack((qtarg, qother))\n",
        "q_test_edge = torch.Tensor(q_test_edge).to(torch.int64)\n",
        "q_test_edge"
      ],
      "metadata": {
        "colab": {
          "base_uri": "https://localhost:8080/"
        },
        "id": "Oj2rwf7Cvx_I",
        "outputId": "c1b50379-f837-4e52-c1f3-f3cbb07cbd29"
      },
      "id": "Oj2rwf7Cvx_I",
      "execution_count": 92,
      "outputs": [
        {
          "output_type": "execute_result",
          "data": {
            "text/plain": [
              "tensor([[ 41480,  41480,  41480,  ...,  41480,  41480,  41480],\n",
              "        [     0,      1,      2,  ..., 169340, 169341, 169342]])"
            ]
          },
          "metadata": {},
          "execution_count": 92
        }
      ]
    },
    {
      "cell_type": "code",
      "source": [
        "with torch.no_grad():\n",
        "  model.eval()\n",
        "  qz = model.encode(test_data.x, test_data.edge_index)\n",
        "  qout = model.decode(qz, q_test_edge).view(-1).sigmoid()\n"
      ],
      "metadata": {
        "id": "pFoyyIF_v3kQ"
      },
      "id": "pFoyyIF_v3kQ",
      "execution_count": 93,
      "outputs": []
    },
    {
      "cell_type": "code",
      "source": [
        "qsorted = np.argsort(-qout.cpu().numpy())\n",
        "qsorted[:10]"
      ],
      "metadata": {
        "colab": {
          "base_uri": "https://localhost:8080/"
        },
        "id": "Wl9S2j7r2SPI",
        "outputId": "c0d68150-a908-44b7-c371-55c1ad334016"
      },
      "id": "Wl9S2j7r2SPI",
      "execution_count": 94,
      "outputs": [
        {
          "output_type": "execute_result",
          "data": {
            "text/plain": [
              "array([ 66649, 145260, 161123, 145247,  59346, 145169, 114873,  75912,\n",
              "       161257, 103460])"
            ]
          },
          "metadata": {},
          "execution_count": 94
        }
      ]
    },
    {
      "cell_type": "markdown",
      "source": [
        "Doesn't seem to provide any better predictions. If anything these might be worse than the predictions using the balanced loss function."
      ],
      "metadata": {
        "id": "1z-jwUboc4ez"
      },
      "id": "1z-jwUboc4ez"
    },
    {
      "cell_type": "code",
      "source": [
        "for i in qsorted[:10]:\n",
        "  print(title_abs.loc[node2paper.loc[i]][1].item())"
      ],
      "metadata": {
        "colab": {
          "base_uri": "https://localhost:8080/"
        },
        "id": "xL66FMrW2UZS",
        "outputId": "c5f8daae-bce3-481a-f05e-ffb65008190b"
      },
      "id": "xL66FMrW2UZS",
      "execution_count": 95,
      "outputs": [
        {
          "output_type": "stream",
          "name": "stdout",
          "text": [
            "hmm based indic handwritten word recognition using zone segmentation\n",
            "interpretable intuitive physics model\n",
            "user taglines alternative presentations of expertise and interest in social media\n",
            "a conceptual paper on servqual framework for assessing quality of internet of things iot services\n",
            "non asymptotic output statistics of random binning and its applications\n",
            "sparse stochastic inference for latent dirichlet allocation\n",
            "simulating branching programs with edit distance and friends or a polylog shaved is a lower bound made\n",
            "physical design obfuscation of hardware a comprehensive investigation of device and logic level techniques\n",
            "texttt deepsqueeze decentralization meets error compensated compression\n",
            "human centred object co segmentation\n"
          ]
        }
      ]
    },
    {
      "cell_type": "code",
      "source": [],
      "metadata": {
        "id": "NfomP1fr2XKo"
      },
      "id": "NfomP1fr2XKo",
      "execution_count": null,
      "outputs": []
    }
  ],
  "metadata": {
    "kernelspec": {
      "display_name": "Python 3 (ipykernel)",
      "language": "python",
      "name": "python3"
    },
    "language_info": {
      "codemirror_mode": {
        "name": "ipython",
        "version": 3
      },
      "file_extension": ".py",
      "mimetype": "text/x-python",
      "name": "python",
      "nbconvert_exporter": "python",
      "pygments_lexer": "ipython3",
      "version": "3.9.18"
    },
    "colab": {
      "provenance": []
    }
  },
  "nbformat": 4,
  "nbformat_minor": 5
}